{
 "cells": [
  {
   "cell_type": "code",
   "execution_count": 2,
   "metadata": {},
   "outputs": [],
   "source": [
    "import pandas as pd\n",
    "import numpy as np\n",
    "import os"
   ]
  },
  {
   "cell_type": "code",
   "execution_count": 3,
   "metadata": {},
   "outputs": [],
   "source": [
    "# 디렉토리에서 관측소 리스트 받아오기\n",
    "station_list=[]\n",
    "for i in os.listdir(\"./station_list\"):\n",
    "    station_list.append(i)"
   ]
  },
  {
   "cell_type": "markdown",
   "metadata": {},
   "source": [
    "### 함수 정의"
   ]
  },
  {
   "cell_type": "code",
   "execution_count": 3,
   "metadata": {},
   "outputs": [],
   "source": [
    "# 관측소별 미세먼지 데이터가 있는 csv파일 불러오는 함수\n",
    "# 2020년은 1월, 나머지는 12월까지라 if문 사용\n",
    "def read_csv_ym(station_name, year, month):\n",
    "    if year != '2020':\n",
    "        df1 = pd.read_csv(f'station_list/{station_name}/{year}/{station_name}_{year}_{month}.csv')\n",
    "    else:\n",
    "        df1 = pd.read_csv(f'station_list/{station_name}/{year}/{station_name}_2020_1.csv')\n",
    "    return df1"
   ]
  },
  {
   "cell_type": "code",
   "execution_count": 4,
   "metadata": {},
   "outputs": [],
   "source": [
    "# 데이터프레임이 nan값을 0으로 채워주는 함수\n",
    "def fill_nan(df1):\n",
    "    df1 = df1.fillna(0)\n",
    "    return df1"
   ]
  },
  {
   "cell_type": "code",
   "execution_count": 5,
   "metadata": {},
   "outputs": [],
   "source": [
    "# station_name_no_nan이라는 폴더를 새로 만들어\n",
    "# 결측치를 0으로 만든 데이터 프레임을\n",
    "# 관측소별, 연도별, 월별 csv파일로 저장하는 함수\n",
    "def save_csv(df1, station_name, year, month):\n",
    "    if not os.path.exists(f'station_name_no_nan/{station_name}'):\n",
    "        os.makedirs(f'station_name_no_nan/{station_name}')\n",
    "    if not os.path.exists(f'station_name_no_nan/{station_name}/{year}'):    \n",
    "        os.makedirs(f'station_name_no_nan/{station_name}/{year}')\n",
    "    df1.to_csv(f'station_name_no_nan/{station_name}/{year}/{station_name}_{year}_{month}.csv',index=False,encoding='utf-8-sig')"
   ]
  },
  {
   "cell_type": "markdown",
   "metadata": {},
   "source": [
    "### 실행"
   ]
  },
  {
   "cell_type": "code",
   "execution_count": 6,
   "metadata": {},
   "outputs": [],
   "source": [
    "for name in station_list:\n",
    "    for year in range(2016, 2021):\n",
    "        if year < 2020:\n",
    "            for month in range(1, 13):\n",
    "                save_csv(fill_nan(read_csv_ym(name, year, month)), name, year, month)\n",
    "        else:\n",
    "            save_csv(fill_nan(read_csv_ym(name, year, 1)), name, year, 1)"
   ]
  }
 ],
 "metadata": {
  "kernelspec": {
   "display_name": "Python 3",
   "language": "python",
   "name": "python3"
  },
  "language_info": {
   "codemirror_mode": {
    "name": "ipython",
    "version": 3
   },
   "file_extension": ".py",
   "mimetype": "text/x-python",
   "name": "python",
   "nbconvert_exporter": "python",
   "pygments_lexer": "ipython3",
   "version": "3.7.4"
  }
 },
 "nbformat": 4,
 "nbformat_minor": 2
}
