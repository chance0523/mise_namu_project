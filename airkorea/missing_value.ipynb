{
 "cells": [
  {
   "cell_type": "code",
   "execution_count": 1,
   "metadata": {},
   "outputs": [],
   "source": [
    "import pandas as pd\n",
    "import numpy as np\n",
    "import os"
   ]
  },
  {
   "cell_type": "code",
   "execution_count": 2,
   "metadata": {},
   "outputs": [],
   "source": [
    "station_list=[]\n",
    "for i in os.listdir(\"./station_list\"):\n",
    "    station_list.append(i)"
   ]
  },
  {
   "cell_type": "code",
   "execution_count": 3,
   "metadata": {},
   "outputs": [],
   "source": [
    "def read_csv_ym(station_name, year, month):\n",
    "    if year != '2020':\n",
    "        df1 = pd.read_csv(f'station_list/{station_name}/{year}/{station_name}_{year}_{month}.csv')\n",
    "    else:\n",
    "        df1 = pd.read_csv(f'station_list/{station_name}/{year}/{station_name}_2020_1.csv')\n",
    "    return df1"
   ]
  },
  {
   "cell_type": "code",
   "execution_count": 4,
   "metadata": {},
   "outputs": [],
   "source": [
    "def fill_nan(df1):\n",
    "    df1.fillna(0)\n",
    "#     df1.fillna(method='ffill')\n",
    "#     df1.fillna(method='pad')\n",
    "    return df1"
   ]
  },
  {
   "cell_type": "code",
   "execution_count": 5,
   "metadata": {},
   "outputs": [],
   "source": [
    "def save_csv(df1, station_name, year, month):\n",
    "#     option2 = ['time','pm10','pm2.5']\n",
    "    if not os.path.exists(f'station_name_no_nan/{station_name}'):\n",
    "        os.makedirs(f'station_name_no_nan/{station_name}')\n",
    "    if not os.path.exists(f'station_name_no_nan/{station_name}/{year}'):    \n",
    "        os.makedirs(f'station_name_no_nan/{station_name}/{year}')\n",
    "    df1.to_csv(f'station_name_no_nan/{station_name}/{year}/{station_name}_{year}_{month}.csv',index=False,encoding='utf-8-sig')"
   ]
  },
  {
   "cell_type": "code",
   "execution_count": 6,
   "metadata": {},
   "outputs": [],
   "source": [
    "save_csv(fill_nan(read_csv_ym('Yongsan_Hannamdaero', 2019, 7)), 'Yongsan_Hannamdaero', 2019, 7)"
   ]
  },
  {
   "cell_type": "code",
   "execution_count": null,
   "metadata": {},
   "outputs": [],
   "source": []
  }
 ],
 "metadata": {
  "kernelspec": {
   "display_name": "Python 3",
   "language": "python",
   "name": "python3"
  },
  "language_info": {
   "codemirror_mode": {
    "name": "ipython",
    "version": 3
   },
   "file_extension": ".py",
   "mimetype": "text/x-python",
   "name": "python",
   "nbconvert_exporter": "python",
   "pygments_lexer": "ipython3",
   "version": "3.7.4"
  }
 },
 "nbformat": 4,
 "nbformat_minor": 2
}
