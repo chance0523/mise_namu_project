{
 "cells": [
  {
   "cell_type": "code",
   "execution_count": 1,
   "metadata": {},
   "outputs": [],
   "source": [
    "import pandas as pd\n",
    "import matplotlib.pyplot as plt\n",
    "import matplotlib.font_manager as fm\n",
    "from matplotlib import rcParams\n",
    "import numpy as np\n",
    "import os"
   ]
  },
  {
   "cell_type": "code",
   "execution_count": 2,
   "metadata": {},
   "outputs": [],
   "source": [
    "plt.rc('font', family='Malgun Gothic')"
   ]
  },
  {
   "cell_type": "code",
   "execution_count": 3,
   "metadata": {},
   "outputs": [],
   "source": [
    "station_list=[]\n",
    "for i in os.listdir(\"./station_list\"):\n",
    "    station_list.append(i)"
   ]
  },
  {
   "cell_type": "code",
   "execution_count": 4,
   "metadata": {},
   "outputs": [],
   "source": [
    "def read_csv_only_one(station_name, year, month):\n",
    "    if year != '2020':\n",
    "        df1 = pd.read_csv(f'station_list/{station_name}/{year}/{station_name}_{year}_{month}.csv')\n",
    "    else:\n",
    "        df1 = pd.read_csv(f'station_list/{station_name}/{year}/{station_name}_2020_1.csv')\n",
    "    return df1"
   ]
  },
  {
   "cell_type": "code",
   "execution_count": 5,
<<<<<<< HEAD
   "metadata": {},
   "outputs": [],
   "source": [
    "df1 = read_csv_only_one('Yongsan_Hangandaero','2019','1')\n",
    "df2 = read_csv_only_one('Yongsan_Hannamdaero','2019','1')"
   ]
  },
  {
   "cell_type": "code",
   "execution_count": 16,
   "metadata": {},
   "outputs": [
    {
     "data": {
      "text/html": [
       "<div>\n",
       "<style scoped>\n",
       "    .dataframe tbody tr th:only-of-type {\n",
       "        vertical-align: middle;\n",
       "    }\n",
       "\n",
       "    .dataframe tbody tr th {\n",
       "        vertical-align: top;\n",
       "    }\n",
       "\n",
       "    .dataframe thead th {\n",
       "        text-align: right;\n",
       "    }\n",
       "</style>\n",
       "<table border=\"1\" class=\"dataframe\">\n",
       "  <thead>\n",
       "    <tr style=\"text-align: right;\">\n",
       "      <th></th>\n",
       "      <th>time</th>\n",
       "      <th>pm10</th>\n",
       "      <th>pm2.5</th>\n",
       "    </tr>\n",
       "  </thead>\n",
       "  <tbody>\n",
       "    <tr>\n",
       "      <td>739</td>\n",
       "      <td>2019-01-31:20</td>\n",
       "      <td>100.0</td>\n",
       "      <td>17.0</td>\n",
       "    </tr>\n",
       "    <tr>\n",
       "      <td>740</td>\n",
       "      <td>2019-01-31:21</td>\n",
       "      <td>79.0</td>\n",
       "      <td>14.0</td>\n",
       "    </tr>\n",
       "    <tr>\n",
       "      <td>741</td>\n",
       "      <td>2019-01-31:22</td>\n",
       "      <td>75.0</td>\n",
       "      <td>15.0</td>\n",
       "    </tr>\n",
       "    <tr>\n",
       "      <td>742</td>\n",
       "      <td>2019-01-31:23</td>\n",
       "      <td>61.0</td>\n",
       "      <td>14.0</td>\n",
       "    </tr>\n",
       "    <tr>\n",
       "      <td>743</td>\n",
       "      <td>2019-01-31:24</td>\n",
       "      <td>52.0</td>\n",
       "      <td>12.0</td>\n",
       "    </tr>\n",
       "  </tbody>\n",
       "</table>\n",
       "</div>"
      ],
      "text/plain": [
       "              time   pm10  pm2.5\n",
       "739  2019-01-31:20  100.0   17.0\n",
       "740  2019-01-31:21   79.0   14.0\n",
       "741  2019-01-31:22   75.0   15.0\n",
       "742  2019-01-31:23   61.0   14.0\n",
       "743  2019-01-31:24   52.0   12.0"
      ]
     },
     "execution_count": 16,
     "metadata": {},
     "output_type": "execute_result"
    }
   ],
   "source": [
    "df1.tail()"
   ]
  },
  {
   "cell_type": "code",
   "execution_count": 17,
   "metadata": {},
   "outputs": [
    {
     "data": {
      "text/html": [
       "<div>\n",
       "<style scoped>\n",
       "    .dataframe tbody tr th:only-of-type {\n",
       "        vertical-align: middle;\n",
       "    }\n",
       "\n",
       "    .dataframe tbody tr th {\n",
       "        vertical-align: top;\n",
       "    }\n",
       "\n",
       "    .dataframe thead th {\n",
       "        text-align: right;\n",
       "    }\n",
       "</style>\n",
       "<table border=\"1\" class=\"dataframe\">\n",
       "  <thead>\n",
       "    <tr style=\"text-align: right;\">\n",
       "      <th></th>\n",
       "      <th>time</th>\n",
       "      <th>pm10</th>\n",
       "      <th>pm2.5</th>\n",
       "    </tr>\n",
       "  </thead>\n",
       "  <tbody>\n",
       "    <tr>\n",
       "      <td>739</td>\n",
       "      <td>2019-01-31:20</td>\n",
       "      <td>59.0</td>\n",
       "      <td>13.0</td>\n",
       "    </tr>\n",
       "    <tr>\n",
       "      <td>740</td>\n",
       "      <td>2019-01-31:21</td>\n",
       "      <td>56.0</td>\n",
       "      <td>13.0</td>\n",
       "    </tr>\n",
       "    <tr>\n",
       "      <td>741</td>\n",
       "      <td>2019-01-31:22</td>\n",
       "      <td>47.0</td>\n",
       "      <td>10.0</td>\n",
       "    </tr>\n",
       "    <tr>\n",
       "      <td>742</td>\n",
       "      <td>2019-01-31:23</td>\n",
       "      <td>44.0</td>\n",
       "      <td>9.0</td>\n",
       "    </tr>\n",
       "    <tr>\n",
       "      <td>743</td>\n",
       "      <td>2019-01-31:24</td>\n",
       "      <td>35.0</td>\n",
       "      <td>9.0</td>\n",
       "    </tr>\n",
       "  </tbody>\n",
       "</table>\n",
       "</div>"
      ],
      "text/plain": [
       "              time  pm10  pm2.5\n",
       "739  2019-01-31:20  59.0   13.0\n",
       "740  2019-01-31:21  56.0   13.0\n",
       "741  2019-01-31:22  47.0   10.0\n",
       "742  2019-01-31:23  44.0    9.0\n",
       "743  2019-01-31:24  35.0    9.0"
      ]
     },
     "execution_count": 17,
     "metadata": {},
     "output_type": "execute_result"
    }
   ],
   "source": [
    "df2.tail()"
   ]
  },
  {
   "cell_type": "code",
   "execution_count": 6,
   "metadata": {},
   "outputs": [
    {
     "data": {
      "text/html": [
       "<div>\n",
       "<style scoped>\n",
       "    .dataframe tbody tr th:only-of-type {\n",
       "        vertical-align: middle;\n",
       "    }\n",
       "\n",
       "    .dataframe tbody tr th {\n",
       "        vertical-align: top;\n",
       "    }\n",
       "\n",
       "    .dataframe thead th {\n",
       "        text-align: right;\n",
       "    }\n",
       "</style>\n",
       "<table border=\"1\" class=\"dataframe\">\n",
       "  <thead>\n",
       "    <tr style=\"text-align: right;\">\n",
       "      <th></th>\n",
       "      <th>time</th>\n",
       "      <th>pm10</th>\n",
       "      <th>pm2.5</th>\n",
       "    </tr>\n",
       "  </thead>\n",
       "  <tbody>\n",
       "    <tr>\n",
       "      <td>0</td>\n",
       "      <td>2019-01-01:01</td>\n",
       "      <td>41.0</td>\n",
       "      <td>24.0</td>\n",
       "    </tr>\n",
       "    <tr>\n",
       "      <td>1</td>\n",
       "      <td>2019-01-01:02</td>\n",
       "      <td>42.0</td>\n",
       "      <td>31.0</td>\n",
       "    </tr>\n",
       "    <tr>\n",
       "      <td>2</td>\n",
       "      <td>2019-01-01:03</td>\n",
       "      <td>43.0</td>\n",
       "      <td>29.0</td>\n",
       "    </tr>\n",
       "    <tr>\n",
       "      <td>3</td>\n",
       "      <td>2019-01-01:04</td>\n",
       "      <td>46.0</td>\n",
       "      <td>33.0</td>\n",
       "    </tr>\n",
       "    <tr>\n",
       "      <td>4</td>\n",
       "      <td>2019-01-01:05</td>\n",
       "      <td>48.0</td>\n",
       "      <td>37.0</td>\n",
       "    </tr>\n",
       "  </tbody>\n",
       "</table>\n",
       "</div>"
      ],
      "text/plain": [
       "            time  pm10  pm2.5\n",
       "0  2019-01-01:01  41.0   24.0\n",
       "1  2019-01-01:02  42.0   31.0\n",
       "2  2019-01-01:03  43.0   29.0\n",
       "3  2019-01-01:04  46.0   33.0\n",
       "4  2019-01-01:05  48.0   37.0"
      ]
     },
     "execution_count": 6,
     "metadata": {},
     "output_type": "execute_result"
    }
   ],
   "source": [
    "df1.head()"
   ]
  },
  {
   "cell_type": "code",
   "execution_count": 7,
=======
>>>>>>> 4ddba5c4cdcff441b685c6cc497f24f1dcce3903
   "metadata": {},
   "outputs": [],
   "source": [
    "def make_pm_list(df, pm_size):\n",
    "    # pm size에 따라서 pm10 또는 pm2.5 return\n",
    "    \n",
    "    if pm_size == 10: # pm10\n",
    "        # pm10['날짜']['시간']\n",
    "        pm10 = [[0 for _ in range(25)] for _ in range(32)]\n",
    "        for time in range(1,25): # 1 ~ 24로 index를 조정하기 위함\n",
    "            temp=[0,]\n",
    "            for i in range(len(df)):\n",
    "                if i%24 == time-1: # 특정 시 추출\n",
    "                    temp.append(df.loc[i]['pm10'])\n",
    "            for j in range(1, 32):\n",
    "                pm10[j][time] = temp[j]\n",
    "        return pm10\n",
    "    \n",
    "    elif pm_size == 2.5: # pm2.5\n",
    "        pm25 = [[0 for _ in range(25)] for _ in range(32)]\n",
    "        for time in range(1,25): # 1 ~ 24로 index를 조정하기 위함\n",
    "            temp=[0,]\n",
    "            for i in range(len(df)):\n",
    "                if i%24 == time-1: # 특정 시 추출\n",
    "                    temp.append(df.loc[i]['pm2.5'])\n",
    "            for j in range(1, 32):\n",
    "                pm25[j][time] = temp[j]\n",
    "        return pm25\n",
    "    \n",
    "    else:\n",
    "        print(\"check pm size !!!\")"
   ]
  },
  {
   "cell_type": "code",
<<<<<<< HEAD
   "execution_count": 8,
=======
   "execution_count": 6,
>>>>>>> 4ddba5c4cdcff441b685c6cc497f24f1dcce3903
   "metadata": {},
   "outputs": [],
   "source": [
    "# 'DataFrame'과 '측정하고 싶은 시간', 'pm size'를 입력하면\n",
    "# 그 시간대의 리스트를 반환한다.\n",
    "\n",
    "def make_si_list(df, si, pm_size):\n",
    "    # pm size에 따라 분류\n",
    "    if pm_size == 10:\n",
    "        pm10 = make_pm_list(df, 10) # pm list를 만들어줌\n",
    "        pm10 = np.array(pm10) # 2차원 배열 slicing을 위해 numpy array로 만들어줌\n",
    "        si_list = pm10[1:,si:(si+1)].T.tolist()[0] # 그냥 복잡한 자동화 작업\n",
    "        return si_list\n",
    "    elif pm_size == 2.5:\n",
    "        pm25 = make_pm_list(df, 10)\n",
    "        pm25 = np.array(pm25)\n",
    "        si_list = pm25[1:,si:(si+1)].T.tolist()[0]\n",
    "        return si_list\n",
    "    else:\n",
    "        print(\"check pm size !!!\")"
   ]
  },
  {
   "cell_type": "code",
<<<<<<< HEAD
   "execution_count": 13,
   "metadata": {},
   "outputs": [],
   "source": [
    "# 한강대로 4시 pm10 \n",
    "hangandaero_foursi = make_si_list(df1, 12, 10)"
   ]
  },
  {
   "cell_type": "code",
   "execution_count": 14,
   "metadata": {},
   "outputs": [],
   "source": [
    "hannamdaero_foursi = make_si_list(df2, 12, 10)"
=======
   "execution_count": 24,
   "metadata": {},
   "outputs": [],
   "source": [
    "# 변수 이름이 길어져서\n",
    "# 측정소명[시] 로 만들기 위한 함수\n",
    "def make_si_10(df, pm):\n",
    "    station=[0 for i in range(25)]\n",
    "    for si in range(1,25):\n",
    "        station[si] = make_si_list(df, si, pm)\n",
    "    return station"
>>>>>>> 4ddba5c4cdcff441b685c6cc497f24f1dcce3903
   ]
  },
  {
   "cell_type": "code",
<<<<<<< HEAD
   "execution_count": 15,
=======
   "execution_count": 7,
   "metadata": {},
   "outputs": [],
   "source": [
    "df1 = read_csv_only_one('Yongsan_Hangandaero','2019','1')\n",
    "df2 = read_csv_only_one('Yongsan_Hannamdaero','2019','1')"
   ]
  },
  {
   "cell_type": "code",
   "execution_count": 8,
   "metadata": {},
   "outputs": [],
   "source": [
    "# 한강대로, 14시, pm10\n",
    "hangandaero_sipsasi = make_si_list(df1, 14, 10)\n",
    "hannamdaero_sipsasi = make_si_list(df2, 14, 10)"
   ]
  },
  {
   "cell_type": "code",
   "execution_count": 9,
>>>>>>> 4ddba5c4cdcff441b685c6cc497f24f1dcce3903
   "metadata": {},
   "outputs": [
    {
     "data": {
<<<<<<< HEAD
      "text/plain": [
       "[<matplotlib.lines.Line2D at 0x1d7b6eb0ac8>]"
      ]
     },
     "execution_count": 15,
     "metadata": {},
     "output_type": "execute_result"
    },
    {
     "data": {
      "image/png": "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\n",
=======
      "image/png": "iVBORw0KGgoAAAANSUhEUgAAAYIAAAEFCAYAAADuT+DpAAAABHNCSVQICAgIfAhkiAAAAAlwSFlzAAALEgAACxIB0t1+/AAAADh0RVh0U29mdHdhcmUAbWF0cGxvdGxpYiB2ZXJzaW9uMy4xLjAsIGh0dHA6Ly9tYXRwbG90bGliLm9yZy+17YcXAAAgAElEQVR4nOydd3xb5b3/34/kvbczPOOQhIQMkkDYhLLCKqUtlAuUcimr49fbAW1pe1sKl5ZbCr1taRktbRmlt8xe9ibgACFx9ibDM17ykOUlWeP5/XF0bNnWtiQPPe/Xyy/pHJ1z9Hjpe77r8xVSShQKhUIRvxgmewEKhUKhmFyUIVAoFIo4RxkChUKhiHOUIVAoFIo4RxkChUKhiHOUIVAoFIo4J2GyFxAqBQUFsqKiYrKXoVAoFNOKLVu2dEgpC729Nu0MQUVFBTU1NZO9DIVCoZhWCCHqfb2mQkMKhUIR5yhDoFAoFHFOVAyBECJHCPG/Qoj1QogPhBCVQoiFQoh3hBAfCiHu9Tj2LiHE++79S6KxHoVCoVD4Jlo5gjTgu1LKZiHERcCtwDzgq1LKOiHEM0KINUASUCylPFMIcRxwL3BhlNakUCgiiN1up6mpCavVOtlLUXiQkpJCSUkJiYmJQZ8TFUMgpWz22OwGbECKlLLOve854GQgH/iH+5zdQoi8aKxHoVBEnqamJjIzM6moqEAIMdnLUQBSSjo7O2lqaqKysjLo86KaIxBCzEXzBu4DOj1e6gRygSLA5LHfIYQYtyYhxE1CiBohRI3JZBr7skKhmASsViv5+fnKCEwhhBDk5+eH7KVFzRAIIS4GfgrcCHQBOR4v56IZgB73cx2XlNI19lpSykeklKullKsLC72WwSoUISGlZOORTpQM+8SYKkbgggsuGLV9zjnnBHXeww8/HNRx/f39vPPOOyGvK5rs37+fTz/9dNz+cH4n0UoWLwMukVLeLKXslFIOAsluDwHg88A7QDXwRfc5i4GmaKxHoRjLlvpurnxkIx8d7gx8sGJKsnnzZm644QZuuOEGtm/fPvz8wIED4469/fbbOeecczjnnHNYuHAhf/7znwF44YUXRh23bt264eOuuOKK4X3d3d088cQTw8fZ7fbh4zy/CgoKcDgcUfl+161bN2p748aNbNq0KSLXjlayeB1wuhBivXu7Afgu8KwQwga8KKXcJ4Q4AFwohKgGeoGbo7QehWIUjd0DANR29HPq/IJJXo0iHJYuXcp//dd/ceDAAU488USOO+445s2bR17e+FTjL3/5y+HnV155Jeeff77P67799tsB3zsxMdHrcWM/rH2xb98+/vM//5Mbbrhh3Dnf+c53SE5O5p577hm13263B3XtcIhWsvhXwK+8vHTymONcwNeisQaFwh9tFhsAR82Dk7wSRbikpKTw7LPPsnPnTk4//XQeeOABLr74Yq666iqf5zz//POUlZVRWlo6vO+0007ju9/9Lp///OeDfu/BwUEuuugiDIbRQZWdO3cGDM3U19dzzz33kJGRMe61hoYG3n77bS666KJR+1tbWzl48GDQ6wuVaScxoVBEgtYeLZnW1K0MQST4+Ut72Ntsieg1F8/J4meX+G8tevnll3n99dcBuOqqq/jsZz/LVVddhcvl4pxzzuHb3/42F198MS6Xi9/+9rc0NjZy7733jrrGhg0b/L7Htm3buOGGG5g1a9bwPqfTSVpaGi+//HLI31d5eTmPPfYYd9xxx7jXfvSjH/GDH/yA3bt3j9r/4osvkpGRwSeffMKaNWtCfs9AqM5iRVzS3qsZgqPuEJFierJ48WIeeugh9u/fz7333supp54KgMFg4O233+biiy/GbDZzySWXUFpayv3334/RaBw+v6qqKuB7rFixwmtS+ZNPPvGaJwhXC+3RRx9l1apVlJSUjNpvsVh4/vnnee2117jjjjuikoNQHoEiLtFDQ8ojiAyB7tyjxb333ss///lPnnrqKVasWMFll1027picnBxeeeUVtm/fzsUXX8zQ0BAALpeL733ve+OOP3ToEE6nk/7+fubNm4cQYpTxAMjIyEAvZX/yySdxOBxcd911YX8fn376KS+88AIvvvgiH3zwwfD+/v5+rrvuOu68807Ky8u55ZZb+Ld/+zcee+yxsN/LG8oQKOKSNovmEbT32rA5nCQnGAOcoZiKGI1GDhw4wJ133jlq/5tvvjnu2FtuuYXnnnuOuXO14sW+vj7OO+881qxZM5xgvuyyy3jwwQdJTk4mMzOTq6++Ouy1HT58mNbW1mEvxR9PPfUULpeLq666ivb2dlpbW1mzZg2VlZXccsstnHjiiQBceumlZGVljctNTBRlCBRxh5SSdouNwsxkTL02ms1WKgvSJ3tZijD55JNPxu3z9kEphBiVyNWfe+67+ebAhYtvvfUWd99997j9f/vb34af//CHP2TPnj1BGQFgVL5g/fr1vP766169G4CzzjorqGuGgjIEirije8DOkNPFyrIc3tjTxtHuQWUIpjFWq9VrA9m9997L8ccfP7z94IMPcuONNw6XYTqdTn784x+Tm5s77lx/nHvuuZx77rkBj3v11Vf57ne/6/N1b8ligLVr17J27dqQ1jRRlCFQxB16WGhVeS5v7GmjSSWMpzXr168P6rgVK1bwyiuvhHx9vSrJ844/GH73u9+F/F6hMJGcxFhU1ZAi7tANwfKSHAxCJYwVCmUIFHGHbgjm5qYyOztVNZUp4h5lCBRxh146WpiZzNzcVBUaUsQ9yhAo4o42i5W89CSSE4yU5KRyVIWGFHGOMgSKuKPNYqU4KwWAktxUWi1W7M5x6ueKaUS4MtSvvfZaUMdNJxnqcFBVQ4q4o81iozgrGdDyBC6paQ+V5qVN8soUobB58+Zh6QddhhrgtttuG3fsLbfcwg9/+EMqKipG7b/vvvtGGZF169YNSzjk5eXx9NNPs27dOv785z/zxBNPcPbZZwOaEuhY46Ovo7W1lYSEyH+0rlu3briCCTQZ6oSEBBYsWDDhaytDoIg72ixWFs/OAqAkV/vwb+weUIZgmhGKDLU/ampqKC8vRx96pWSoFYoZjsPpoqPPwyPISQVQeYJpSDgy1J5YrVaklNTU1JCWlkYo0w+VDLVCMY3p6BvCJWFWphE+eZjZK65FqF6CifPaD6F1V2SvOWspXHCP30OClaGeNWsW1157LUlJScNSE1dccQVCCG655Ra/7xEPMtTKECjiCr2HYNHgdvjg+yRnl1CUmax6CaYpugz12rVr+de//jVOhlrnjjvu8PrB29jYGPA9dBnqn/3sZ6P26zLUY7nnnntYvXp1iN/JaBlqT0PgKUN9yy238NJLL0U8B6EMgSKu0A1BsbNV29F5iJLcE1QvwUQJcOceLYKRoda5/vrraWhoGLXPYrHw85//fNQ+JUOtUMxwdEOQM9Si7eg8xNycM9jW2D2Jq1KESygy1M3NzeMSvGMTtUqGWqGIA9osNowGQepAs7aj8wgls1N5dVcLTpfEaPCf6FNMPYKVoQ4GJUOtUMQBbRYrhRnJGMzuEEHXYUoWp+FwSdosVua4q4gU04dgZajtdvu443btCj3BrWSoFYppTluvu3RUNwS9LZRmaF3FTd2DyhBMQ4KVoQ63M1jJUE8AIUShEOJuIcRdQogMIcR6j68jQohvuY/b5bE/uAJghSJM2nqslGQI6G/XyhOBCqEljo+aVcJYEZ9E0yO4DzgEpEkp+4C1AEIIA/Aa8Bf3cW1SyuCEQRSKCdLWa+XC2e4OzXlnQesuiu1NQCpNXaqEVBGfRM0jkFJeC3zg5aUrgVfcxgEgoNqXEOImIUSNEKJGL9lSKELFandiHrBTmdCh7Zi3FoCknloKMpJVU1kYSCknewmKMYTzO5kM9dEbgUcBhBDpQJUQ4gMhxNNCiFJvJ0gpH5FSrpZSrg6lDVyh8KTdPYdgrnDfTBQdC5lzoPMIc3PVgJpQSUlJobOzUxmDKYSUks7OTlJSUkI6L6bJYiHEGmCXlLIfwP1Y5X7tXLRw0hWxXJMifmjr1XoICp1tYEiEjFmQX+VuKktlz9GeSV7h9KKkpISmpiaUlz61SElJoaSkJKRzYl01dBXwjL4hhDBKKZ3uTfXXpIgqw81ktlbIKQWDQTME+16iZE4qb+1pw+WSGFQvQVAkJiZSWVk52ctQRIBYG4JTgO97bM8XQvwFGHJ/fS3G61HEEfqIyrSBo5BTpu3Mq4KBTuZl2BlyujD12YaH1igU8UJUDYGUcj2w3mP7hDGvHwCCa71TKCZIm8VKUoIBo6URZrulBfLnAzDPqJWQNnUPKkOgiDvUqEpF3NBmsVKWKRD97SMeQX4VACUuTXtIic8p4hFlCBRxQ5vFypJ0d0I4p1x7zK0AYSDfqskRq8ohRTyiDIEibmi32FiQ7FYZ1T2ChGTILiWpp5bctETVS6CIS5QhUMQFUkpaLVYqjO5mMt0QgEcJaZoaWamIS5QhUMQFfTYHA0NO5mIa6SHQyZ8PXUeYm52icgSKuEQZAkVcoJeOFjjbRnoIdPKqwGZhYaaVo+ZB1SmriDuUIVDEBXozWbatZXRYCIZLSBcktmO1u+jsH4r18hSKSUUZAkVcoBuCVM9mMp38eYCHHLXKEyjiDGUIFHFBm8VGMkMkDJjGG4LsMjAkuOWoUZVDirhDGQJFXNBmsbJwuHS0fPSLxgTIrSR7QJtapgbUKOINZQgUcUGbxcriNLO2MdYjAMivItF8hMyUBOURKOIOZQgUcUGbxcqC5C5tw6sh0EpIS3NSVI5AEXcoQ6CIC9osNsqNneN7CHTy5oFjkOOyBpRHoIg7lCFQzHhcLkl7r5XZsn18D4GOW3xuSXI7Td0DqpdAEVcoQ6CY8XQPDGF3Sm0ymbewEAz3ElQZ2ugfctIzaI/hChWKyUUZAsWMR+8qzrJ6aSbTyZwDCSnMdR0FVAmpIr5QhkAx42nrtZLMEMm2Dt+GwGCAvCrybaqXQBF/KEOgmPG09VgpEe6R2GN7CDzJn0d6Xz2gBtQo4gtlCBQznjaLjRLhRX56LPnzMZjryEpSA2oU8YUyBIoZT1uvlYX+egh08qoQLjsrsvtUaEgRVyhDoJjxtFuszE/q9t1DoOMuIV2R2qGayhRxRdQMgRCiUAhxtxDiLvf2l4UQe4UQ64UQb3ocd5cQ4n0hxIdCiCXRWo8ifmm1WCk3dvjuIdBxl5AuTGpXOQJFXBFNj+A+wAYkurdzgNullGullOcBCCFOB4qllGcCNwP3RnE9ijilzWJzN5P5CQsBpBdCUiblsgWL1YHFqnoJFPFB1AyBlPJa4AOPXTlA95jDzgP+4T5+N5AXrfUo4hOH00VHn418R2tgQyAE5FdRZNd6CVR4SBEvxDJHkAD8SghRLYS4yb2vCDB5HOMQQoxbkxDiJiFEjRCixmQyjX1ZofCJqc9Gkhwi3d4V2BAA5FeRPeiWo1aGQBEnxMwQSCl/JqU8CTgfuNydD+gBcj0Oc0kpXV7OfURKuVpKubqwsDBGK1bMBLTS0SB6CHTyqkjqayIRh8oTKOKGmBkCIUSC++kg0AtIoBr4ovv1xUBTrNajiA/aLNbgegh08ucjpIv5iSbVS6CIGxICHxIxfimEONH9ni9IKfcKIfYDFwohqtGMw80xXI8iDmi3eHYVBxcaAliV0al6CRRxQ1QNgZRyPbDe/fw2L6+7gK9Fcw2K+KbVYqXU0IE0JCL89RDo5GmD7Bcnd/C/yiNQxAmqoUwxo2mz2KhK7EQE6iHQScuD1DyqjG3KI1DEDcoQKGY0bRYrZQY/qqPeyJ/PXOdRuvqHGBhyRG9ximlHz6Cdf//rphmXP1KGQDGjabNYmRVMM5kn+SNy1KqEVOHJrqYe3jtgovrTmVXGrgyBYkZj7rGQ7ewOzRDkVZE62EoKNhUeUoyivdcKQG1n/ySvJLIoQ6CYsVjtTjJtLdpGMD0EOu7KoQrRRtMMCwEoJkZ7rzbtrq5DGQKFYlrQHuwcgrG4DcExxlbVVKYYhcltCGqVIVAopgetofYQ6ORphmCpkqNWjGHYI+gcwOWSk7yayKEMgWLG0uY2BDLQHIKxJGdAxiwWJppUjkAxinaLliMYcrho7pk5fxthGQIhxFORXohCEWl0Q+DKKgmuh8CT/CrKaJ5xZYKKiWHqtVGQkQRAXcfMCRv6/O8QQlwwZttT/mF21FakUESINndXsSEvhESxTn4VxfajmHptWO3OyC8ughwx9fG/mxomexlxQXuvjRMrNbX8mVQ55O82aawkxJc8ns+c4JhixtJmsVEqOhCh5Ad08qpIs3eRyQDNU9wreGJjPT98fhd9NtX8Fk0Ghhz02RwsmZNNaqKRWlN8GAIRs1UoFFGgq6eHfMyhJYp13GMrK0TrlM8TNHZpIYqGzpkTqpiK6BVDRZnJVBSkUxcnHsHYu/4VQog3hRBvRXNBCkWkMFjcquah9BDouEtIK0XrlM8TNHZp62vomjkfTFMRvWKoKCuFyoK0GVVCGkoGbYeU8jwp5blRW41CESGklCT16oYgDI8gtxKJoMrQMqV7CaSUNLg9gnrlEUSVdsuIR1BZkE5j1wAO57g5WtMSfzLUxUKIK9zPBSovoJhG9NocFLnawUh4hiAxBZFdyrF9Jl6dwqGhzv4hBt3J7PouZQiiiS4vUZSZTEV+Og6XpKl7kIqC9Ele2cTx5xHcD2S6vzKAX8dkRQpFBNAH0rhEQmg9BJ7kz2OeYWrnCBo8PvxVjiC6mHptJBgEuWlJzCvUPvxnSnjIp0cgpXzUz3nNUViLQhEx9FnFtoy5pIbaQ6CTP585dTUcncKhIT1RvGhWJvUqRxBV2nttFGQkYzAIKvJHDMFZk7yuSBDWf4iU8ppIL0ShiCStPW55iXDCQjp5VaS5+rD1mhhyTM1YsG4ITp1fQLPZin2GxKynIu29NoqykgHIS08iMyVhxngEQRkCIUSBEOJb0V6MQhEp2nq1ofWJ+RXhX0QvIaWVlikqJ9DYNUhBRjILZ2XidEmljRRF2i1WijI1QyCEYN4MKiENaAiEEN/GnXJzb18vhLhNCJEU7cUpFOHSZbZQJMwkhNNVrONZQjpFP2AbuwcozUulPC8NUAnjaGLqtVGYmTK8XVGQzpEZ0lQWjEfwWbSKISGEuBZYBnSikseKKYy9s157Ek4PgU5OGdKQQKWhZcomjBu6BijLS6PcHbNumCF3qFMNu9NF18DQsEcAUFmQTnPP4JSXIAmGUHMElwE/lVL+BTjW34FCiEIhxN1CiLvc21cKIdYLIWqEELd7HLfLvX+9EOKqkL8DhcILBkuj9mQiOQJjIjKnnArRSptbdXIqYXe6aOmxUpqbRlFmMskJBtVLECU6+4aQEgrHGAIpR/I005lgDMEK4Gn38ywppcX9PJAZvA+wAYnu7UNSyrXAicClQohC9/42KeVa95dSNVVEhNT+o9qTiRgCwJBfxTHG1uGu0qlEi9mK0yUpy0vDYBCU5aWp0FCU8Owh0Kl09w8cmQEJ42AMwQ5GBOd6hBBZ7uf+mtGQUl4LfOCxXeN+dKGFlobcL6kyB0VEcbkkWbZmnBPpIdDJn08ZbbRbpl5oqNFd1lqSlwpAeX6a6iWIEsNdxVmjcwQwM8ZW+vwwF0Jcz0hHsd5V/AJwpxBiN7AnnDcUQnwdqJZS9ggh0oEqIcQHQCvwPSllo5dzbgJuAigrm9gdnmLm0zUwxBxM9KfMJivcHgKdvHmkYsXe0xKZxUUQvZmszJ0oLstL58NDnUgpEUJpRkaSdg/BOZ2slETy05NmRAmpv/+SfqAPuAu3QZBSPgFsBbIYL1PtFyFEphDiIaBdSnkP2gX7pZRVUsozgD+hhZPGIaV8REq5Wkq5urCw0NshCsUw+kCaoczSiV/MXUKaZqmb+LUiTGPXAAkGwezsEY9g0O4cVslURA79Z1qQkTxqf2VB+owwBP46i/+pPxdC5APd7v2Ph/leDwB3Syk/9biuUUqp5xpMYV5XoRhFu8XGEtEBOasnfjF3CWn2YOOUu9Nu6Bpgbm4qRoO2prL8kRJSzxCGYuK091rJTUskKWH0vXNFQTrVB6f/R5ffOL+OlLIT+P0E3+tioNzjH+lO4KgQ4i9o+YIh4GsTfA+FAlO3mSJhpqegYuIXc+cY8mQXPYN2ctKmTvtMY/cgpblpw9vDvQSdA5xQkTdZy5qRtPfaKMocb1wrC9J5dksT/TYH6clBfZxOSaK6cinlemC9+3m+j8NOjeYaFPHHoKkOgPTCyolfLCGJoaQcCh09tFlsU8oQNHUNcN6SkWR4SW4aBqF6CaKBp7yEJ3rlUF1nP0vmZMd6WRFjgpk0hWLq4ezW5vcmTERewgNHaiGFwjxcQjgV6Lc56OwfotRdMQSQlGBgdnaqKiGNAiaLdVQPgY6n+Nx0RhkCxbSgo8/GewfacbkCj8VIiEQzmQcis5hC0TNcQjgV0EtHPUNDoCWMVVNZZJFSYurzHhqqKNB+/tO9hFQZAsW04Ccv7Obf/7qZyx78iG0N3X6PTelvwkEEegjcJGbPooCeKdVUpvcL6KWjOuX5aaNmFCgmjnnAjt0pvXoEaUkJzMpKobZjev/MveYIhBALgTWBTp5ABZFCETS1Hf28sbeVMxcUsrfFwmV//IjPHz+XH1ywiGIv1THZthbMSbMomGgPgZuErFkUTbHQUKNb+6h0jCEoy0unq3+IXqudzJREb6cqQsRbD4EnWglpXyyXFHF8/ac40eQhAn0pFFHn0Q1HSDQYuPfyZbx361q+traKl3e2cNav1/OH9w6NEv2yO10UOtvoT50TuQWkF5ImbPT0mCN3zQnS2DVARnICuWmjP+zL80cqhxSRwZu8hCcVBenUTfOft1ePQEp5SAjRKqUcZeaEEBlAppRy6rVZKmYknX02nqlp4rLj5w7HaH+wbhFXnlDKf72yj3vfOMA/Nzfy44uO5bzFxZh6bZSIDiyZyyO3iIxiAOzm1shdc4I0dg1Qkps6rq9BDxU1dA1w3NzpW8UylfAmL+HJvALNC+sZsJOdNj29MH++8/OeG24j8CgQgXZNhSI4ntzYgM3h4obTR5eCluen86drV/PEV08kOcHAzU9s4cuPbuLj/U0UCTMiN4JSJBlFAMi+tshdc4Lo8tNjUR5B5DH1+Q8N6ZpDtdO4bDeYwTT5QogbgBeBX0kpN0V/WQoFWO1OHv+4js8sKuKY4kyvx5x+TCGv/cfp3HHJYnY2mfnD/60HICkSzWQ6bkNgHJgaHaRSSpq6B8flBwAy3fo3DWp+ccRot9hITzL6bBirdFcOTec8gb+GspVCiPXAAsAKXCql3BWTVSkUwHNbm+jsH+KmM+b5PS7BaOC6Uyv57Iq5vPjc43AE8kuOidxC3KGhLGcXfTYHGZPcQdrRN8Sg3enVIwBNaqJumlexTCXae733EOiU5mmNfNO5csifR7DNPSNgDnA58BMhxK0xWpciznG5JH+urmVZSTZrKoOTS8gTfVxn+wcYEkmbtTByi0nLR2KgQPTQPgUG1OjloZ7NZJ6U56kS0kjiS15CJznByNzc1GndS+DPEAxnxqSUW6SUXwIShBDfj/6yFPHO2/vaqO3o58bT5wUn9GZpgb9eCK274IrHIL0gcosxGLGn5FOIeUr0EjR1e+8h0CnL10Yo2hzTf4TiVMDUa6PQi7yEJ5UFGdO6u9if+uiXvey7x2MwjUIRNf5UfYS5OalccFwQTWGdh+GJz8FAF1zzLFSeEfH1yPRCCvt7psTISr2ZrCTXuyEoz0tDSmjqHqSqMCOWS5uRmHptPhPFOpX5aWyr755yCrXBEnLHjceoSoUiKmxt6GZzXTdfPa2SBGOAP9HW3fCXdWDrg6+8FBUjAGDImkWhME8Jrf/G7gEKM5NJSTR6fV2vHFLTyibOwJCDPpvDb2gItKayXpuDjr4hv8dNVXx1Fn8GKPH2mt5NLIT4npTS6yAZhWIi/Ln6CFkpCXzphACVyg0b4e9XQHIGXPcyFEYwLzCGhKxiCsXOKREaGlc62rYXjrwHJ38D8JhLMI3LGacKeg+Bv2QxeIyt7OwPeOxUxNft1hAj3cPfwns38fnRXZoiHqnv7Of13a1cc1K5f333g2/D45/TcgHXvx5VIwAgMoo1BdKeyZ9d3Ng1SGmuR6J4y9/gjR+BrReAwoxk0pKMSoU0AgSSl9DR5aina57AV2fxBv25EOJqz2llHky/QJhiyvPohlqMBsF1p1T4Pmj3c/D8zVC0CK55ATJiML40o4gkHPRbOqP/Xn6wO1209AxSljd3ZKe53v3YAMVLEEJQlqcG2UeCYXmJAMniuTmpJBrFtDUEPgOwQohXhRCvAmvcz/865pDAesAKRQh09w/xdE0jn1sx1/eoxZq/wLNfhZIT4LpXYmMEYLiXwGmZ3O7iZvMgLgklnqGh7vrRj2gVRcojmDimYY/Af44gwWigNC9t2paQ+svEpUopL5RSFkspLwQiWI+nUIznyY31WO0ubvTWQCYlVN8HL38HFpwPX34eUmKopePuLqa/PXbv6YXGLi00NZwjkNLDIxgxBLocdTDzGxS+ae+1kWgU5KQG1hCaN40H2fszBGP/gqQQIlkIca0Q4ivA7CiuSxFnWO1OHvu4jrULC1ngTU5i6+Pwzp2w9Ar40pOQ6L2ZKmqka4YgfahzlNpprBlpJnMbgv4OsLvv/D09gvx0hhwu2qaQdPZ0pN1ioyAjGYMhcCS8Ij+dus7+aWl8/XoEQogy91c5oJtE/Sfy6+guTRFP/GvbUTr6hrjpdB9yEnueh8JFcNnDYJwEhUe3R1Aoeia1hLSxe4BEo2CWHjrz8AJGeQR5SnwuErT3WgMminUqCtKx2l20ToFek1DxJ5qyHbjdY3uLlNIGPBbdJSniDZdL8kj1EY6bm8XJVfnjD3DYoOETWPUViNCwmZBJzcVlSByeXexN8C0WNHQNMDcnFaN+h9pdpz3mlI/yCDx7CU6a5+VnqggKU6/NZ+PeWObpJaQd/czJibHHOkH8dRZ/LZYLUcQv7+5v54ipn99eucJ7V+bRLeAYhIrTY784HSFwphZSMDS5s4ubugZGGyHdC6g8Hfb8S8sL5YQAACAASURBVMsZCMEct7GoVyqkE8LUa2NleW5Qx3rKUZ8yP/Ip1dd3t5CalMCZCyJfIBG12yshRKEQ4m4hxF3u7YVCiHeEEB8KIe71OO4uIcT77v1LorUexdTlEbecxIVLfaSdaqsBARWnxnRd48go0obYT2JoqGGsIeiuh7QCKFoMQ32azAaQaDQwNydVhYYmgN3porN/KOjQ0KysFFISDdSaomN8f/3mpzy6oTYq1/bVWbwWuBotYazfonlmQAQgpZQ3+bn2fcAhQP+r/R/gq1LKOiHEM0KINUASUCylPFMIcRxwL3BhuN+MYvqxvdHMptoufnLRsST6kpOoq4ZZSyE1uDuzaJGQVUxRy342TVIMuNdqp3vATmnuGI8gt1wLDQGY6yBdCwWpQfYTo6MvuK5iHYNBDCeMI01LzyCH2vv40urozAXzFRqqAWqZQK+AlPJat0FZJ4RIAFKklHXul58DTgbygX+4j98thAhOb1gxY3j8ozoyUxK48kQfE8XsVmjcBCfcENuFeUFkFlNo2DRpHsG40lHQPII5x2vGQN+eu2r4uJd3qqmy4TI8ojJAD4EnlQXpHGjrjfhaNhzsAOC0Y6JTxe+rs7hPCPEMmiFIR6sYMuP2BDweg717LwQ8WzI7gWOBIsBz7JNDCGGQUro8TxZC3ATcBFBWFsERhIpJxeWSrP/UxDnHFvse9tK0GZw2LQY+2WQUk0cPJsvk3GU3do+ZQ+ByQk8TLPmch0cwOmHcM2if1rN0J5Ng5SU8qShI5+19bTicrsCCiSGw4VAHBRnJLJrlfVLfRPGXLL4AQAhxPjBfSvkH9/YSKeWeEN/HDOR4bOeiGYBU93Md11gj4F7LI8AjAKtXr55+RboKr+xtsdDVP8Rp/hJrddUgDFB+SuwW5ov0Ioy4sPZMzsjKxq4xcwgszeCya0YgJUsLnY3qLtaSl/Vd/SxLyxl3PYV/hruKA8hLeFKZn47dKWk2W4fF/yaKyyX58FAHp80viJrEdTAm6wDwsRCiQAjxJ+DsUN9ESjkIJAshdIGUzwPvANXAFwGEEIuBplCvrZi+bDgUhLtbWw2zl8e2i9gXenfxJA2xb+waIDM5gWy9y9XcoD3qYaGc8nEeAahegnDRdYYKMkIwBIWa8T0SwfnF+1t76egb4rRjoien4tMjEEL8AC38kwksAVqA30opd4f5Xt8FnhVC2IAXpZT7hBAHgAuFENVAL3BzmNdWTEM2HOxgQXEGxb50hYYGtNDQSVOkktmtN5Ro7cTudPlObkeJRvfA+uG7Qv1DXw8L5ZZD24izrnsO0UwYb280s2hWps/ZCNOZ9l4beelJIf2eK/JHegmIkCDuhkOaB+rXc54g/hrKNrofc9BkqU8CVgFBGwIp5Xpgvfv5ZrQEsefrLmCK/JcrYonV7mRTXRfXrCn3fVDjJ1roI0rDZkJG7y7GTEefjdnZsW0aaugaoMp9xwm4w0ACst2VJDnlcOA1cLnAYCA9OYGCjOSozSVoNg9y2R8/5PYLFnHTGVVReY/JpN0SeDLZWAoykshMToio5lD1wQ6OKcpgVnbwSetQ8WnqpJTvu7/+T0p5F3AxkCKE8CZJrVCExOa6LoYcLk73FxaqqwZhhLKTYrcwfwzLTJhj3lQmpaRx7EAacz1kzYGEJG07txycQ9A3PG6c8vy0qIWGNtd1ISVsqu2OyvUnG1OvNeQhM0IIKgrSqY3Qz9xqd7Kptitq1UI6Qfs8UuNh4NYorkcRJ2w42EGiUbBmnp+K4dpqmLsSkqNTKREySRm4ElInpanM1GvD5nCNbybL8fCocipG9rspz4teL8HmOq15bWuDNqt3pqHNKg79LryiID1ictRb6ruxBbphigDhzCxujMZCFPFF9cEOVpblkpbkIzpp64PmrZMrKzEWIXClF1EgeoYTibFipHTUSzOZTu74EtKy/DRaLdaoKKbW1HVjENDVP0TdDEtISykx9dlCqhjSqSxIp6l7gCHHuALIkKnWb5gqo6sX5auz+BjghEAnSymfiviKFDOejj4be1ss3HreAt8HNWwEl2Nq9A94YMwsorDbzOYYh4aG5af1rmKHTSsf9fQI9FzBGPE5KaGpe4D5RZHzrHoG7Rxo6+WipbN5eWcLW+q7h8c1zgS6B+zYnZLCECqGdCoL0nBJ7Xc2vyhjQuvYcMjE8WW5/se2RgBfHoEBrYks0JdCETIfDpeN+imHq/sADIlQOkXyA25ERjGzDZbYewTuruISfVZxTxMgR3sEiSmQMWu0R6D3EkT4jl0LB8GVJ5SRlZLAlvqZlScIdkSlNyoLtA//iSaMu/qH2NNs4fQoVgvp+OosPoDWP6BQRJwNBzvITk1k6Vw/vQG11VCyGpImR+7ZJxnFWmgoxh5BY9cAxVnJI2WanvLTnuR6l6OOtCGoqevCaBCsLM9hZXkuW+q7Inr9ySYceQmdSs8S0gnw4aEOpIyerIQn/voI3gY8g1zC/XWVlHJy5/VNM5wuiZQyoi3n0xUpJRsOdXBKVf6Ipv5YrD3Qsh1On4J1CRnFZEsLnZbYyjs3dA2MF5uD0R4BaIah4ePhzfz0JNKTjBFPGNfUdbNkThZpSQmsKstl/QETPYP2kWa3aY4pDHkJney0RPLSkzgyQUOw4WAHWSkJLCuJfle431GVUsrzPL7OBbYB0StmnaH88LmdXPfXzZO9jCnBYVM/LT1W/3c59R+DdE25/AAAGVo4y9Eb2+7ipu7B8WJzhkTIHCPdnVsOlqPgtANaOWNZhBUxhxwutjeaWV2uVXytqtBUYrY1zJzwkF4VFmr5qE5F/sQG2Y/cMBX4vmGKIKHMLFaEgZSasNontZM763aqsOGg1iV5+nx/+YFqMCZBScB6hdjj7i42Dphwxmg27ZDDRXPPICVjK4ZySsEwpqM3p1wzoj0jxX3leWk0RDA0tLu5B5vDxQluA7C8JAejQbB1BuUJ2nutpCcZw07SVhRMzPjWdvRz1DwYk7AQhF4+qoxDiDT3WDH12rA7JftaLJO9nElnw6EOyvLS/Aty1VVDyYmxH1AfDG5DkCvNdPUPxeQtm82DSOlFfnpsfgBGy1G7KS9Io7F7IGKGa0ud9oGvewLpyQkcOzuTLTPMIyjyJX0SBPMK0mnpsTI4FN7Nn67DFe3+AR1/hkAIId70+HoLWAEMxmRlM4TtDebh5zsazX6OnPnYnS42HgnQJTnYDS07p2ZYCCBd82QKY9hLMFI66mEYx/YQ6HiTo87TFDFbeiLzr7u5rovy/LRRidRVZblsbzDjcE68dn4qYLLYwg4LwcjYynC9guqDHZTmpVKeH5uSXH8SE+eOzRG4HydHg3easr2xm6QEAwUZSexo6pns5Uwq2xvN9Nkc/svh6j8C5NRqJPPEQ28oVt3FejPZsBdl64OBTu8eQdZcTZbDxyD7iSKlZEt993B+QGdleS79Q86oDGWZDEx9oesMeaL3VIRTQupwuth4uJPT/IVPI4wqY4ky2xvNHDcnixWluXHvEVQf7MAg4JSqALLTCSla6ehUJDEVV1IWhaIHU4xKSBu6BkgyGijW78B9VQwBGBMgu2RML4G7hDQClUO1Hf109g+xumL02NBV7gHvMyVP0G6x+i4d1eW//VBZkE5ygoHXdrcGPHYsO5rM9NocMQsLgTIEUcXudLHraA8rSnNZUZrNkY5+egbtk72sSWPDQRNLS3L8T8uqq4bSNZAQ/t1Y1MksjmloqKlrkJLcVAx69Yh+t69rC41lTC/BnJxUEo0iIr0ENe78wAljDMHcnFSKs5JnRGNZv81B/5DTe2iobQ/8z1I4+Jbfa6QlJXDzGfN4aUdzyD0W1Qc7EAJOqYqurIQnyhBEkQOtvVjtLlaU5bC8VKsF3hWn4SGL1c6Oph7/YaH+TmjbPXXzA24MGUXMMsZOeK6xe2BMxdCYgTRjGTOgxmgQlOSm0dA18RLSzXVd5KYlUlU4WjpBCMGq8twZkTD2O6Ly6Fbt8dM3Al7nlrVVzMpK4ecv7cUVQqJ+w8EOls3NJictKehzJooyBFFkmzsUdHxpDsvmaoZgR1N8hoc+PtyJ0yUD9A9s0B4rpsj8AV9kFFFssMSsu1hrJhuTKE5MgzQfd4y55dBvgqGRD/6yvMjIUW+p72ZVea7XkYkry3Jp7Bqk3RJb+Y1Io6/fq7yEab/2WPt+wOukJSXwgwsWsrOph+e3HQ3qvXutdrY1mmNWNqqjDEEU2d5gJj89iZLcVLLTEplXkM72OM0TbDjYQVqSkZVlub4Pqq2GxHRNenoqk1FMvuymLQahIYvVjnnA7r101Nf8Wj1k5BHLLs/XegkmIhfd0WfjSEc/qyu8S4freYLpHh4y9fmRl2jfpz12fKqJ/gXg0uVzWVGaw69e30+fzRHw+I1HurQbphgmikEZgqiyvbGb48tyhu+elpfmsL3RPCO12wOx4VAHayrzSErw8ydXV60NoTFOcZmCjCLS5ADmnuj3hegD6/3KT49lWI56xBCU5aXRa3PQPRB+jspXfkBnyZxskhIM094QjOgMefEI2vdB0WLtee0HAa9lMAh+dsli2ntt/PG9QwGP33DQRGqikZXl0ZeV8EQZgijRM2jnsKmfFaUjv9BlJdmYem20TnPXOVSaugeo7ej3rzba16653VM8PwBAuj7Evj3qRl1XHR32CKT03Uymk+OlqSxfVyENP0+wpb6LpAQDx/kQC0xKMLC8JHva5wnae20kGgU5Y4saBs3Q2wzHfQFS8+BI4PAQwPFluVx2/Fz+vKF22LD7ovpQB2vm5ZGcENsZ0MoQRImd7lzAitKRuyc9YbyjMb4Sxh8G0yVZV609TvX8AAx3F+e4uqNeBdY4dg7BYDcM9fr3CDKKICF1dFNZ/sQH2W+u62Z5SbbfD6mV5bnsPtozreVU2nutFGYkj8+DmNyCzMVLtBuW2vc1wxwEP1i3CKMQ/OLVfT6PaTYPcsTUH9Uh9b5QhiBKbG8wIwQsKx25e1o8O4sEg4i7hHH1wQ6Ks5I5xt+QjtpqSMqE2ctjt7Bw8ZxdHOXKocbuAbJSEkZKbn3JT3siBOSUjRyLRy9BmAnjwSEnu4/2+MwP6Kwuz8PulOw+On1vdky9Ngq9yUuY3B/iRcdC5ZmauF/n4aCuOSs7ha+treK13a1sPNLp9ZgNB/UbptjmByDGhkAI8U0hxHqPrw4hxJeFEHvd22/Gcj3RZFujmarCDLJSRtzLlEQjx87OiqvGMpdL8tHhTk6dX+C10mSYumooP0VriJrquA1BgYh+5VBD18D4/AD49wj01z08gpREI8VZyWEbgh1NZhwuyepyP8l+YGWZ5vVO5zyBNqvYR34gMQ2yy2DeWm1f7fqgr3vTGfOYm5PKz1/a61X3qfpQB0WZySwonthUs3CIqSGQUj4gpVwrpVwL/B64B8gBbnfvPy+W64kWUkq2N5o5vnR8wmd5aTY7m3pCqiuezuxtsdDVP+Q/LGRpgc5DUHFa7BY2EXS9IcxRbypr7BoYXzEE/j0CcHsEoztgy/PSw+4lqHEPql8VwBDkZyRTWZA+rQ1Buz9DULgQDAbImwdZJUHnCUAzxrdfuIh9LRb+uXn06HeXS/LhoQ5OC3TDFCUmJTQkhDAA3wAeQDME0/evxguNXYN09Q+xosyLISjJoc/m4EhH3ySsLPZUu93dU/3JStS5+wemQ6IYwJiITM2PemjI5ZI0dQ+O9whScyEly//JOeVg69FyCm7K8sPvJdhc182C4oygmpxWluW6R1lOv5udIYeLrv4h713Fpv0jFUNCwLwzNU/WFbzQ3kVLZ3NiRR73vXkAi3Ukv6TfMMW6f0BnsnIElwJvSSmtaFPSfiWEqBZC3OTtYCHETUKIGiFEjck09TXvtjVq/3wrvHgE+r7tMUgYd/UP8eyWJmyOyUvcbThkYmFxpn9J37oPICUbZi2L3cImiMgsptgY3dCQqc+GzeEabQgCVQzpeJOjzkujvdcWsjSy0yXZ2tDNqnL/+QGdVeW5dPQNRXwqWizo8NVDMNAFfW1QuGhkX+WZmqFt2xX09YUQ/PSSxXQNDPH7dw4O79dlpycjUQyTZwiuBx4FkFL+TEp5EnA+cLkQYsnYg6WUj0gpV0spVxcWxj6REirbG82kJhpZWJw57rV5hRmkJxmHq4qigd3p4q8f1rL23ve49Zkd/Oatg4FPigJWu5PNdd2B73Jqq6H81PFDVqYy6YXMNkZ3iH1jKPLTY/EiR71kruZFvLwzcCOUJ5+29dJrdfjsHxiLHj7S+w6mEz7lJdo9EsU6le4KtxDCQwDHzc3m8lUl/O2jumF10g0HOwLfMEWRmBsCIUQ+kKLPPRZC6NnBQaCXGTD8ZluDmaVzs73OKDYaBEtLsqOWMK4+aOLC31bz85f2sqwkhwuOm8UjHxyelI7mTbVdDDlc/g1BTxN0105d2WlfZOjCc9HzCBrGNpO5XFqTWJgewdoFRVqX6xsHgupy1dHzAycEqBjSOaYog8zkhGnZTzA8q3isvIReMeTpEWTNhoIFQclNjOXW8xeSnGDk7lf2YrU72VQXYE5HlJkMj+AM4GOP7V8KId4HNgAfSSn3TsKaIobN4WRvs8VrfkBneWkOe1ssEQ3Z1Hf2c8NjNXz50U0MOV386drVPPHVE/nvLy6jOCuF257ZEfPa7g2HOkgyGlhT6ecDpNbdPzBd8gM6GUXkuroxRbE5sLFrECE0ZU8A+lrBORScR5CaC8nZozwCvcvVFGSXq05NfTdFmcmU5AY3Mc5gEBxfnjstJal1D29caKh9v1benF0yen/lmdoMDUdo0+qKMlP4xlnzeXtfO79569PAN0xRJuaGQEr5gpTypx7bt0kpz5RSniql/HWs1xNp9rX0MuR0ea0Y0llRkuMeXTnxIR59Ngf3vLafc+//gI8Pd/CDdYt48ztncO7iYoQQZKUk8svPL+Vgex+/eye2IaLqgx2sLM8hLclPSWhdtdalWTQuIji1ySgmSdro7Y2ep3Wko4/izBRSEt0hs0Dy02PJLRvlEUBoXa46NXXdnFCRF1I1y6qyXA609Y5KiE4H2i02hID8jDFJ8fZ9ULRovL7TvDPBPgBHa0J+r+tPq6AsL42HPzgS+IYpyqiGsgiz3e0OB/IIYGKjK10uybNbmjjr1+t56P3DXLx8Nu/eupavra0a1/m5dmERV6wu4aH3D8esh8HUa2Nfi8V/c4yUcPhdLdZqmGZ/iu5eggx7Z0hhlmDpszl4e28bp3omD4PtIdAZI0etE0yXq06zeZCj5sFxg2gCsao8FylHj2qdDrT32shLSyJxbFjXtG90WEin4jQQhpDzBADJCUZ+dKGWcwh4wxRlptl/39Rne6OZ4qxkZmf7dqNnZ6dQmJkc9odys3mQyx78iFuf2cGcnFRe+Pop3H/FCor9JJp+fNFiijJTuO3ZHTGpIvrocBBVEO17obcF5p8d9fVEnOGRlT1RkV1+YdtR+oecXHNS2chO/e4+uzS4i+RWaDmFMWWcwXS56tS4wztjR1MGYnlpNgYx/RrLTL3W8aWjfSZtNKheOupJaq7WDR9GngDg/CXF3HzmPG4+oyqs8yOFMgQRZnuj2WvZqCdCCJaXZIctNfH7dw+yv8XCfZcv54WvncLx/qSd3WSnaiGiT9v6eODd4OPD4VJ9sIPs1ESfAmUAHHpHe6yajoZA0xuKRi+BlJInP65nyZys0X9L5nrImAWJQVaW5JSDw6qVPY4hUJerTk1dF2lJRo6dPb4Czh+ZKYksnJXF1mmWMDb12sZX7gxLS3jxCEDLEzRt1mZJh4gQgtsvOJazFhWFfG4kUYYggnT1D1HXOTBKaM4Xy0tyOGzqDzmGarHa+de2Zi5dMYcvrCoZGV8YBGctKuILK0v44/rDUdWC2dts4eWdzXxmURFGf+s7/A4UHgvZc6O2lqiRrstMRL5yqKa+mwNtvVxzUvnouLy5IfiwEHitHNLx1+Xqyea6blaW5XqtgAvEqvIctjWY/RqaqYbXrmK9dLTw2PEngJYncDmg4WPvr08DlCGIIHqoJ5BHAIQ9uvKFrUcZtDu55qQQPhA8+OnFi8lPT+LWZ3Yw5Ai+IzJYegbs3PLkFnJSk/jxRT7+cUCbnlX/0fQMCwGk5SGFUSshjXBo6MmN9WQmJ3DpijmjXwi2mUzHSy+BJ766XHUsVjv7Wy0BZSV8sbo8jz6bg0/bJl4UEQtcLuldZ6h9n9bwmDnL+4mlJ4ExKezw0FRAGYIIsq3RjEFocwcCoR8TSn2/lJInN9azrCSbZSXhDa7ITkvkF5ctZX9rLw+EUEIYDC6X5Nv/3EZLzyB/vGYlBRl+BtDXfaiVQlZ9JqJriBkGI6QXMsvQM1x7Hgk6+2y8tquVL6wqGZ08dNrB0hSaR5Djzi948QjAd5erzrYGM1IG3z8wluk2sax7YAiHS47PEejSEr6qppLSoHRNWAnjqYIyBBFke6OZBcWZpCcHzv7npCVRWZAeUsJ4U20XB9v7uGZNeN6AzjmLi/n88XP543uHIhoi+t27B3nvgImfXrLE/0hK0MJCCSma4ug0RWQUMSfBEtHQ0NM1TQw5XVy9pmz0Cz1NIF2heQRJaVoIy1zn8xBvXa46NXVdGA3CbwWcP0pyUynMTJ42/QQjXcUeOQIptaIGbxVDnlSeAa27NCmKaYgyBBFCSsmORjPHh/BPs7xEUyINlic21pOVksAly+cEPjgAP71kMbnpSdz27M6IhIje29/Ob985yBdWlnDN2A8xbxx6Ryu9SwyuSWlKog+xj5DMhMsleWpTPWsq8zhmrDxJqKWjOrnlo0ZWesOzy9WTzXVdHDs7k4wgbmy8IYRgVVnucOXRVMdrV3FvK1h7RktLeKPyTEAGNb5yKqIMQYSo7einZ9AeVH5AZ3lpDq0WK609gT9ITL023tjTyhdXlZKaNHFNnpy0JH5x2VL2tVh4cH1wwzV8Ud/Zz3/87zaOnZXF3ZcdF7jxyNwAnQenZ7WQJxnF5ElzxITn3j9oorFr0Hv+J1j56bHklPsMDel4drlWH9REHe1OF9sbzSGXjY5lVXkuDV0DUZfrjgRedYa8SUt4Y+5KSMqYtnkCZQgixLaG8aMpA6HH+YMpI326phG7U3L1SUHcbQfJuYuLuXTFHH7/7kH2Noc3iH1wyMktT25FCMHDX1410gXrD71sdLominUyishydUcsWfz3jfUUZCRz/hIvSUlzPQgjZIVYYZVbroWVnP6b3vQu17te3ovD6WJPswWr3RV2fkBnpTtPsLV+6jeW6cZqVI6gfb/26K2HwBNjoiacOE3zBMoQRIjtjWYykhOY728c4xiWzHGPrgyQJ3C6JE990sApVflUFUZ2etEdlywhJy2R257dgd0ZWohISsmPX9jF/lYLv71yxWi5ZH8celsb6lGwIIwVTyEyikmQDrCaJ6zj1NQ9wLv72/nSCSUkJXj5t+yu13RuQp3gllMO0qmNVfRDcoKRH190LJ+29fHUpoZhoblQO4rHctzcLJKMhoj3Eww5XBHv6G632MhIThidpG/fC2n5kBGE6vG8M6HrsGZ4o0H7fhiMjkFVhiBCbG80s6wk23/d/BhSEo0smp0Z0CNYf6Cdo2YfIYMJkpuexH99bil7mi2s+58PeHpzY9Cdx09urOf5bUf5zjkLWLswyIYYp12Lo87/jO8qjOmCPqlMmCdcOfSPTVoc/99O9OHxBSs/PZZc/yWknpy3uJhTqvK5/61PeWdfO6V5qX671YMhOcHI0pLsiFYObanv4pz73+f833wQUWPgtXTUtN93/8BYKs/UHqPhFbhc8NwN8MRlkb82yhBEBKvdyb4WS0j5AZ3lJTnsbPQ/uvLJjfUUZSZz7uLiiSzTJ+uOm8WDV68kOcHI95/byRm/eo+H3z9Mr59mty313dz58l7OXlTEN8+aH/ybNdWAzQLzz4nAyieZ4e7ingnFwIccLv65uZHPLCqiJNeHVxVqD4FOgBJST/RyUsugnY+PdHLCBPMDOqvKc9nV1DNhaZMhh4t739jP5Q99jMPporlnkPvf/DQiawT30HpPQyAlmA4EThTrFC2GtILo5An2v6QNwFlzS+SvjTIEEWFPcw8Ol/RtCDY+CO/c5fWl5aU59Noc1HZ6nyXb2DXA+k9NXHlC6XghrAhywdLZvPKt03jiqycyvyiDX762n1PueZf/fn3/uA+59l4rX//7FubkpHL/l1aE1N3M4Xe0WLd+9zSd0Q0BE0sYv7GnlY6+Ia725fENDUB/e3geQXapJooWhEcAsGhW1rBXsmqCYSGdlWW5DDld7D4aXh4K4GBbL5f98UP+8N5hvriqhDe+cwZXnVjG3z6qjVgJdHuvdbS8hOWodtPiS1piLAaDVkZ65P1x+k4TwuWC9fdA/jGw9IuRu64HyhBEgOFEsbfS0YEueOdO2HC/19jhigBKpH//pAEBXOkrZBBBhBCcfkwhf7/hJF785qmccUwhD79/mNP++z1uf34XtR392J0uvvnUNnoG7Tx0zSqyUxNDe5NDb0PJakgNrzZ9SqELz01QZuLJjfWU5qVypi+lVr38M1j5aU+MiVqCOQiPQOfW8xby5ZPKueC42aG/nxdWlmu/679/Uk9Lz2BI57pckr9+WMvFv99AS4+Vh7+8il99cTmZKYl8//xF5KUn8eN/7Y6IjMU4eYlA0hLeqDxDmxvRETlPhb3/0nIVa38YtSl+yhBEgG2NZubmpI4fZgFQ8xdNr1xK2PK3cS9XFWaQlmT0aghsDidP1zRy9rHFzMmJbb39spIc/nD1St793lq+uKqE57Y28Zn71nPx7zawqbaLez6/jGNnBxigPpb+TmjePv3LRnVSspHGJIoM4YeGDrb18kltF1edWO7bswq3h0DHhxy1L3LTk7jrc8eRlx54UH0wFGWmcPGy2Ty/9Sin3PMuHtSjCwAAHSNJREFUVzz8MU9urKer3/8wl5aeQa79yyZ+/tJeTp1fwOvfPn1URVV2WiI/uWgxOxrNwzmWcOmzORgYco6pGPIynjIQ89yebqT6CVxOzRsoPBaWRCc/AMoQRITtDWbv3oDdCp88rMXDjzkPtj6uJUs9MBoES+dms91LY9nru1vp6h+KSpI4WCoK0vnFZUv58Aef4etrq2i1WLnx9Eo+d3wYQnFH3gPk9C8b1RECkVFMSWJv2KGhv3/SQJLRwBWrS3wfFG4PgU5u4F6CaPPAVSt579a1fPvsBXT22fjJv3Zz4t1vc91fN/H81qZxSd+XdjRz/m8+YEt9N7+4bCmPfmW11xutS1fM4ZSqfH71+v4JJez1EuDRPQT7tfBfWgi5ktxKyC6DI+vDXssodj8PHQei6g0ATN4khBmCqdfGUfMg/35qxfgXdz2txXZP+X/gsMFTV8D+l8dZ9hWlOfz1wzqGHK5RpYNPbqynPD+N0/1p+seIwsxkbjt/EbeetzCkSVWjOPSOpt8+5/jILm4yyShi9kB4MhMDQw6e29LEhUtnke9Pl8lcr8lxZIQpVZxTroUr7IOT2sldWZDOf5xzDN86ez57Wyy8uKOZl3e08N2nd5CcsItzji3momWzeWNPK/+3vZnjy3L4zRUrqChI93lNIQR3fe44Lvifan7x6j5+86UVYa3N5E1eIhhpifELgnlnwL6XtLv5iXx4Ox3w/j1QfBwc+9nwrxMEyiOYINt9KY66XPDRAzBrqZYYnX+Odqew+dFx11hemsOQ08X+1pFk2v5WC5vrurnqxLLQkrFRJmwjIKWWKJ53VlTvbGJOelHYUtQvbm+m1+YI7PF112nVP+H+7IdLSH3LTccSIQRL5mRz+wXHUv39s3j2lpP50gmlbDzSydf/vpVXdrbwvXMX8MzNJ/s1AjpVhRncfOY8Xth2lI8OdYS8HiklL+5oBmB2jtsQuFyhVQx5UrlWk6Vo2RH6uZ7segY6D7m9geh+VCtDMEG2N3aTYBDjB7Acektz6U75lvYPbDDC6uu0Gb2m0Ykkb6Mr/76xgaQEA5evDnIa1VjsVvjg1/CHNdAR21nFXmnbrQ1ImSlhIR19iH2IOQIpJU9srGfRrMzAMs/mMEtHdQLIUYeN1QKPnAWv3ha22JrBIFhdkcedlx7HJz86m6duWMPr3z6d/3f2MSHNQPjGWfMpy0vjJ/+3O6QyVYfTxfef3cnfP2ngulMqmKcbnp4GLbcXliE4Q3ucSBmp0w7v/zfMWgaLLg7/OkGiDMEE2dZgZtHszPHSCh/9Xuue9QwDHX8tGBK1BLIHc7JTKMhIZnujlifoszl4fmsTFy+dHXrCTkrNLf3DifDuXdpdzcYHw/nWIsvwNLJpKjvti4xi0h1muvutOELozN7eaGZPs4Wrxw6f8UaoA2nGMjygpi78a3hj97PQvBU2/Ql+v1J7DCBl4Y8Eo4FT5hcwvyi0aWigNWfeeekSjpj6eeT9I0GdY7U7+cZTW3lmSxP/cfYx/OySxSO/C11aIpSKIZ3MYu28iTSW7fhf6K6Fs34Uk8ZLZQgmgNMl2dnUw/Fj9YWObtXu/E/6mla+p5NRCIs/Czue0mrD3QghWFE6MrryX+55tT7ryn3Rtgce/yz88xpISodr/w+WfQl2/hNskzwc5PA7ULQEsiaunDqlyCjCgIs8aaGjz38VjCdPbmwgPcnIZYGS7oNmLcwwEY8gYxYYkyPvEWx9XPud3rJBi2O/eis8fMakKXCuXVjERUtn8/v3DlHX4b0vR6fP5uD6v23mjT1t/PTixXzn3AWjDXK7W4m1cGF4i5l3JjRs1HKDoeK0wwe/0nJpC9aF9/4hEnNDIITYJYRY7/66SgixUAjxjhDiQyHEvbFez0Q4bOqjz+YYnx/4+AFIzoKV144/6YQbtH/s3c+N2r2sJIfDpj4sVjtPbqzn2NlZrAxW0nqgC165FR46DVp2woW/hpurYd5aOOGrMNQHO58O63uMCLY+7Z9i/gzzBmA4gVsgemgLUnzOPDDEyzub+dzxcwNLPE+0dBS0+HJOaWQrh1p2QvM27W981nHwlZfgise1G47HLtFuRiLtgQTBf168mCSjgZ++uAfpo6mru3+Iq/+0kU9qu7jv8uVcf1rl+INM+yFzTvj9LpVngmMQGj8J/dztf9e8wLN+HDMZlsnwCNqklGvdX08B/wN8VUp5KlAhhFgzCWsKi+3eGsm662HPv2DVdZDipc6+7GTNbawZnTReXpqDlPD4R3Xsb+3lmpPKAocMnI4Rt7zmUVj9VfjWNjjxxhFxspITtIR1zV8i2+0YCnUb3NPIZlh+AMIaYv/sliZsDldwZcETLR3VCbGXICBbH9e8jGVXaNtCwOJL4Zub4KyfaKHAB07UOuqH/N+dR5JZ2Sl899wFfPCpiVd3tY57vaVnkMsf/ph9rb08dM0qvrDKR9lu+77w8gM6FadCUia88LXQksYOm5bbKzkhpjIsk2EIhgOpQogEIEVKWefe9Rxw8iSsKSy2NZrJSkmgMt+jsmHjg9o/hS9NECG0u/TmbXB0y/Du5e7Rlb9/9xAZyQl8bkWAkMGR9+Hh0zV3vPg4zT2/6Nfja56F0AxE225o3BTOtzlxDr8DCamaEZxp6N3FBNdU1tQ9wEPvH2Z1eW5wDXmR8Aj08yPlEdgHNQ9z8WfH/70lpsKZt8E3a7TXq38Nv1+tHR+jG5FrTy5nyZwsfv7SnlF6WbUd/XzxwY9p7bHy2L+f6Fu7y+XUOoMnYghSsuG6l7Xnj54Pu54N7rxtT0BPY8xyAzoxNQRCiHSgSgjxgRDiaWA20OlxSCcwroRCCHGTEKJGCFFjMplitFr/2J0uPjzUwfLSnJHyzsFu7U5p6eWQ7eeDfNmXIDEdNo8kjXPSkqjIT8PmcHHZ8XP9j7v8+A9aLmCoD654QnPLi5f4Pn7p5drdSc340tWYMDyNbGJKllOSdLchMATWG7JY7Vz/t83YHC5++fmlwV2/ux6Ss7X+i4mQUw5Wd75houx9EWw93kOfOtlz4Qt/huvf0Izl8zfCmz+Z+HsHQYLRwN2XLcXUZ+M+tyjdnuYeLn/oIwbtTv5x40mcXJXv+wLddeCwht5DMJY5K+Cm9drjc1+Ft+/QjIwv7Fb44D4oPUkrs44hMTUEUsp+KWWVlPIM4E/A/YBnEC4XGPdJL6V8REq5Wkq5urAwCF3wGPDohloaugb4yskVIztr/gr2fjj5m/5PTsmCZZdreYLBEXlevYzUb8igthre/E+tpOwbm7W7rkB3DskZsPxK2POCJvMQS7rrNI32maA26o3kDEhMpzSxz29oyO508fUnt3LE1M/D16waP4rSF+Z6yI2AztRwL8HEpBgA2PqY1kFbflrgY8tOghvfgxXXaN6yXo0TZVb8//bOOzzKKvvjnxtSCASTACF0WBBRekkA0Sgg2BAEBFGqSHFdxbWhYll1LSxW5GdBEKUIKGUFG0gRBAXEgLCCAQQWCGVNpAVCDbm/P86MGUImmT6Zee/neXhCJu+8OTfv+86599xzvqdWAv3b1mbamt1MW7ObO95fS3SZCGbfcyVNa8YX/+Y/pSVKaEbjCnFJMOhzaD0Evn8TZt3h3BlvmArHDwR8NQCBXxE45lhmAxqIUUrZp8+9gGWBtMkTMg+fZNzS7VzfKJnO9uVl3hmRk6jfSTbPSiJlqGwmbZz150vD0+rxbLdGNKzq5EPi2H6YcxdUqg89J7g3w04dKnH6jR+7/h5fEC7dyIojrgrVI487rSXQWvP0Z5v5fscfjOnVlPbuVIp7Kj9dGPs5vA0P/bED9vwgqwFXi5wiIqDL89LK8ZvRAQsRjbKJ0v1jwRaSKsQw5972rjWO+rM9pYcZQ4WJjIZu46DrG7DzW5h03cW1PedOwarXxbna6xACSKD3CC61ZQctB8YCTwAPA3OVUiuAdVrrjADb5DbPf7GFCKV4trtDOOaXuVLG336kayep1kw2hBw2cZvUiGfIVUVkMIA4mtmDZMna92OIcTPXusoVULu9/L5875vVu8yOZVJRXcmNngWhRlwyyRHOq4vfXbGTT9MzGdnpUvcKBLW21RDU9d5G+zm83TD+eZrIiLfo5977yleGDo/LB+H2b7yzwUXiY6N4tU9zujatxuy/XkkNV4UbszLkno3xbTdAUodKGPfUEZjUCbYvLvhZ+kdScNlxdFAaNgU6NLRNa32V1rqj1voGrfUurfVPWusrbVlEbwTSHk9YvOV/LM3I4sHODQpuLK2lgCy5qXuxvZSh0sTdlbzrRaNhfzrc+o7nM5XUoRKq2fmtZ+93l3DqRlYccUlUdNKT4ItNB3j1m23c2qI6D3dxszXniSxZNfpiRRCbKPtE3qwI8s7CxpmS216hiL7KJZE6XDT1v3lSzhUAOjaswjv9W1G5OC2nwmRtdb0HgbvUaS/7Bol1RXts1RuSVfX9G5JyWteFcJsfsFRB2fo9R4rtBFYSuWfyeO7zLVxetcKFM/cdS2U52X6kex94jXvKA1rSJu7GmXJM+wegcQ/PjAe4opt0UArUpnHmOjh7PDzTRh2JSyb+/GH+OHHmgvsrffdhHpmzidS6ibzSu5n7Ok2+yhgCuS8TvUwh3b4IcrOh9WDP3h8ZDTe8LHtG6yZ6boc/OZ8nkzNvMoZKIqGWbKI36QXLnocJafJ37fik/35nCVjGEWzef4zeE1bz3BfOC01K4q1lv3Hg2Gle6tnkwm5hq8dL8UmTXu6dMKostOgPW7+C4xfnPAOSg/zlQ1A3Da571iO7/yQyRmK72xcFRoDM3o3MrtEersQlE5uXQ0T+WQ6flJnu7j9yGT4tnRoJsUwcmEJMpAdCe76qIbCTUNu7FcGGaXKfe+PYL7teEge+ewVy3ReI8zuHd8lemifSEu4QXQ5umwydn5PfWf862VgPEpZxBI2rX8LwtHpMW7OHfy3c6rYzyDiYw+Tv/8sdqbVo7djL9cBGCX8UlpNwlZS7IT9PHrLCnDwMnw6EcpWg90cFRWLe0PouCWVtmOr9uUpixzKo1UZyqsMZWy1BJXLIyjnDkdyzDJnyEwAf3ZVKoqcNXo7ulq8JHgoPFsZeVObJROhopqx8W/b3/j684WVJff72Re/O4w/s0hL+Cg05ohRc/RDcuxp6Bym124ZlHIFSitE3Xc7AdnV4f+Uu3lrmuiJnfr7m6fmbiY+N4vEbC90ga96W2Kuny+VK9WVfYf2UCwW78s9L7vXxg1K6H+ejtNnEOk6b5JTI6Rz49wjZtF7zrmgqOTvHiWw4GEbdyIqjfIHMxL4jJ7ln+nr2Hz3FpEEpLskoF4nWshosnyS6Ub4gsY4oah52TZTtAjbOkK8tB3pvR1JDqX7fMBX+94v35/Ml2VsBBZV9lDHkCsmNvK8T8RLLOAIQZ/B898b0bl2TcUt/Y+LKnS69b3Z6Juv3HOHJm6+4cHZ3NFM6CLUe7N2sN3WYNMrevqjgte/GygzsprHS49eXpA6VDIWtX7r+nrO5MLOv1D7s/1nSACd1hH/Vhim3wLcvib2nbT0Vdi2Xr+GoL1QYB5mJZxZsZt3uw7zWpzkpdd3obFWYla+Jimyzvj4yEpkARFeA2YPdEyHMPw8/fyzaVb7YrwDR2C+bIEkQwZI+KYqsDNnIjS4XbEsCiuU6lEVEKMbe1ozT587z8tdbiY0qw0DHorBCHDpxhjELt9LmLxW5rVWhauHV42V51+5e74y67EZpMJ4+Ga64BbYtEkfQor8UovgaxyY5rvRBPXcaPukPmWulWrTJbZBzQITk9q6V11e9BjofVIQoUp4/A7EVoZpnHaNCCocm9r/nnGHUDQ3p3twLldXVb8PyF6H5ndDlBR8Ziaw+b58CM26HOUPgzk9cC/PsWi6yB13+6TtbYhNlc/TrR8XhNfJvBy6X8VZjKESx1IrATpkIxZt9W9D5imSeWbCF2enON07HLNxK7pk8XurRpCDr49QRmDdMMh+a3wnxxfSbdcmgSGg1WNI6dyyV8Eu15tD1df+kXRbTJOcizp+TIrZdy6H72+IEQOSkm/SCm1+Be1bCE5kie33t45IznnNQjg2nbmTOsDmCRhVOMaBdbf7Wob7n5/ppMix+Chr1kL+3rztTXdpZ7qsdS2DhY67NxtdPlX2qy7v61pbWQ6R6d/HTMtkINnlnJaPJW2mJEMSSjgAgqkwEb/drSVqDyjwx7z98YWtV58jaXYeYu34fI66pVyAJsGsFvHeVhIQ6PgW3jPONQa0GSYbNjNvl4b99un/7yzppknMB9n2K7QtF2rplf+fHxsRJ6KDDEzBoPozOFBE8KxAZA2XjGdQ0lhd7NPW8nefGWfDVw7JC7DXJN8kBRZEyBK76u6xA17xT/LEnsmHb1zLhiXQjF98VykTKxvHRPbD2Xd+e2xMO7ZDEDV9IS4QYlnUEIF2NJg5MIaVuRR76dCNLfv39z5+dzcvn6fmbqZkYy8hODWTGsuhJmHYrRJWDYUvg2sd897BeUk3CQjpfwi++isU6w94kZ+PMomWC8/Nhwf2iT9TlBdncc4dwLiArirhkVG6W5+/f8hks+Js40z5TJefen1z3nMhGL35aQjPO2DRLPhyLE5jzhvodoeHNIq/gLIU6UNilJQKRMVTKsLQjAIiNLsOHd6XSuEY8983YwMrtonn3wfe72JF1gn/e2pjYQ1tgYgdY+w60GSGhkBqtfW9Mt/EwbFngBNpSh4mKZKEmOWgtsdtNM6HDaLjqgcDYE8rEJUslsCdsWyihxlpt4Y6ZgVFpjYiAnu/LfTxvOOxbf/ExWkt2Wa12vtPdKYrrXxQJlWUe7kGcPSnaPTu/FXuXj4H598HU7jC+lchgr32v5L4IWRmyx1WpgWd2hDCW2ywuiriYSKYNacOdk9YyYno6L/Voyvhlv3FToyQ6/TETZr8kMdIB8/z7IR2bADX94GCcYW+S89Pkghmf1jJLTJ8s4YNrHw+cPaFM+SRJl3WXncslHbdqM+g323epoq4QFSsbxh9cB7P6yiTEcSW6d41U2V79kH/tqFRfEi5Wj5fJSY1WRR+Xny/pnZm2JIWsDDi2D04dLnSgEgmM+Jqi6ZVzEBY9IQkYbUbIv/JFCP9lZUDFeuEpl14C1nEEp3NgyTNyc8TXkiyd+JryNTKa+HJRTB/ahr4T1/LInE00iD7EuNNvwtIfZePuljcvbsIR6tib5Hz9qDTJqdEaVoyR2og2I6Dz89YL8XhKXLLE091hz2r4pB9UvkwmGUV1tPM3cUnQfw5M7gIz+sDQxQXtGTdMk5ar3siauMo1oyQMtWg03L1I7rtzp6RWZe8aafmY+WOBhHP5JMlIq5lie45r2p7tmlCh2sWhtb0/wg9viTP4YTy0HADt779Q0C97qyUzhsBKjiA3GzK+hJOFy9qVPMTxNagUX5MFDaqx8Pwxbj29gKhDUbJp17RP+H4gNusLS56VJjn/XWVLWx0AN44N3zH7g7gqoqt0Nte1Wf2+9ZIYcEkNGDg/uJOMpIbQdwZM7wmzB0L/eVJ4tmU+tLgzMKuUspdAp2fgiwdg7hCp0Tm4CfJtBYuVG8qeRq12IsVQsZ5792fttlB7JmRvE0ewfookSjTuKSvfypdJoV1jN2ViwgTrOIJK9eGxnTLLyDkgedHH9svS8limFHRlZVD+2BJ6nzsp2j493vNdeX9pxd4kZ8N00Ocl5bP7eN+nLYY7tqIyTmRBRSdS4nYObISPe0H5SjD4c99VjXvDX9Lkus+/V7StqrcQ5VN/bRIXRcsBUm289Suo3gquvE8+9Gu19Z2jTGoIPd6BTk9JplL6R7B5rvw+nW/JjWKwkiOwExUrTqGSk1xvraXqMqaCdWbEqcMkDNCwq2wgWiH339fYagnIzS7aEZzIhl/nS9+KzLWyEhj0udRjlBZa9BOZ8u/GShZT1aaBLQiMKCOqnDrf96mqhbmkumxSpz0q+2FrJwDKGgWQRWA9R1ASSgUnVhtMqjaFkeul2thfuevhjt0RnChIQeb0MQlHbp4Lu76TFVeVRhICaTnAM01/f9NhtDiD/3wqRY6Bngx5ItzoDbEJkPYItLtPxu1sghjmmKfeIFSsF2wLQht7aOjIHplN/zIXflsiUhsJdeDqB6FJbxEYK80oBd3/T3pXXHZjsK0JHFFlLRsWAuMIDAbfUK4yoEQeAsQxpNwNTXtLNlYohRkjY8QRGCyDcQQGgy8oEyl7LXmn5cO/bprZazGEDMYRGAy+wiraSoaww+QIGgwGg8UJ6IpAKZUATACqIk5oMHA1MBrIAs5qra8PpE0Gg8FgdQIdGioHPKy1PqCU6go8CmwFRmutFwTYFoPBYDAQ4NCQ1vqA1tou/H8EyAUSbP83GAwGQxAIyh6BUqoGshoYh6xKXlFKrVJKjXBy/AilVLpSKj07201hL4PBYDAUi9IBbhytlLoF6AY8qbU+5PB6OWAB8KDWeouz96ekpOj09HT/G2owGAxhhFJqvdY6paifBXqzuBnQTWt9j8NrkVrrPOAUcBwIrGcyGAwGixPozeIbgTSl1Arb93uB35VSbWy2fKa1/jXANhkMBoOlCXhoyFuUUtnAHi9OURko3JQgFAmXcYAZS2klXMYSLuMA78ZSR2tdpOZ5yDkCb1FKpTuLk4US4TIOMGMprYTLWMJlHOC/sZjKYoPBYLA4xhEYDAaDxbGiI5gYbAN8RLiMA8xYSivhMpZwGQf4aSyW2yMwGAwGw4VYcUVgMBgMBgeMIzAYDAaLY5nGNEqpF4BrkDGPKE7GorSjlPoFsMtzTNRazwymPe6ilEoCHgTytdbPKKUaAu8CZYHVWutRQTXQRYoYx0BCVFLdiUR8NCF2XcJJ6l4pFQ3MAyoACugHxOGHa2IJR6CUSgOStdbXKqWaAK8CNwfZLG/4XWvdOdhGeMHrwA5ElhxEfHCo1nq3UmqOUqqt1vrH4JnnMoXHkUDoSqoXJRFfj9C7LuEkdZ8H9NVan1RKDUCcWhp+uCZWCQ1dD8wC0FpvBioG1xyvyQ+2Ad6gtR4ErATRmgLKaq132348D7gySKa5heM4bISspHoREvFnCMHrEk5S91rrfK31Sdu3DYBf8NM1sYojqAI46lfnKaVCcuxKqfJAfaXUSqXUbKVUrWDb5CVJFIS5sP0/MUi2eEuJkuqlHQeJ+NcJ4evirtR9aUUpNUop9RuQAmzAT9ckJD8MPeAYF/7B8rXWITmr1lrnaq3ra62vASYhD2wocxSZsdlJ5EKnHTJorZ/VWrcDbgD6KKUaB9smd7BJxP8DGA4cJkSvi+M4bCuEkL0uWutXtdYNgLeBN/DTNbGKI1gF9AZQSjUC9gXXHM9RSpVx+DYkHszi0FqfAmJsMziAXsCyIJrkMbYwF4SgpLqjRLzW+lCoXpfC47C9FpLXRSlVQSmlbN/uBcrgp2tiic1i4CvgZqXUKuRGuKeE40szlyqlPgTO2v7dG2R7fMHDwFyl1Bngc611RrAN8pAxISypXpREfChel3CSur8cGGf7+58C7kfUR31+TUxlscFgMFgcq4SGDAaDweAE4wgMBoPB4hhHYDAYDBbHOAKDwQ8opdoqpR4Ith0GgytYJWvIYPALSqlEYDKiBxMDfKC1ngbEEvoV7AaLYByBweAdDwIfaq2/tFWrr1BK/TvYRhkM7mBCQwaDd/yOKEGCFPzkAKeDZ47B4D5mRWAweMcEYKRN5rwMMEprnVdQEGowlH5MQZnB4CVKqQaIjk1h1mmt1wXaHoPBXcyKwGDwnuNIXwJHGiM9L4wjMJR6jCMwGLznckTy2JF4ROPKYCj1mNCQweAlSqk7kIYhU4Jti8HgCWZFYDD4hlG2doKObNJaPxIUawwGNzArAoPBYLA4po7AYDAYLI5xBAaDwWBxjCMwGAwGi2McgcFgMFgc4wgMBoPB4hhHYDAYDBbHOAKDwWCwOP8PTvo3sMGqhCAAAAAASUVORK5CYII=\n",
>>>>>>> 4ddba5c4cdcff441b685c6cc497f24f1dcce3903
      "text/plain": [
       "<Figure size 432x288 with 1 Axes>"
      ]
     },
     "metadata": {
      "needs_background": "light"
     },
     "output_type": "display_data"
    }
   ],
   "source": [
<<<<<<< HEAD
    "plt.plot(hannamdaero_foursi)\n",
    "plt.plot(hangandaero_foursi)"
=======
    "plt.plot(hangandaero_sipsasi, label = '한강대로, 14시')\n",
    "plt.plot(hannamdaero_sipsasi, label = '한남대로, 14시')\n",
    "\n",
    "plt.legend()\n",
    "plt.xlabel('일')\n",
    "plt.ylabel('미세먼지 농도')\n",
    "plt.show()"
>>>>>>> 4ddba5c4cdcff441b685c6cc497f24f1dcce3903
   ]
  },
  {
   "cell_type": "code",
   "execution_count": null,
   "metadata": {},
   "outputs": [],
   "source": []
  }
 ],
 "metadata": {
  "kernelspec": {
   "display_name": "Python 3",
   "language": "python",
   "name": "python3"
  },
  "language_info": {
   "codemirror_mode": {
    "name": "ipython",
    "version": 3
   },
   "file_extension": ".py",
   "mimetype": "text/x-python",
   "name": "python",
   "nbconvert_exporter": "python",
   "pygments_lexer": "ipython3",
   "version": "3.7.4"
  }
 },
 "nbformat": 4,
 "nbformat_minor": 2
}
