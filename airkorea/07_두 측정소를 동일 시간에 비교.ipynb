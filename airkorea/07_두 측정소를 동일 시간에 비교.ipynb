{
 "cells": [
  {
   "cell_type": "code",
   "execution_count": 1,
   "metadata": {},
   "outputs": [],
   "source": [
    "import pandas as pd\n",
    "import matplotlib.pyplot as plt\n",
    "import matplotlib.font_manager as fm\n",
    "from matplotlib import rcParams\n",
    "import numpy as np\n",
    "import os"
   ]
  },
  {
   "cell_type": "code",
   "execution_count": 2,
   "metadata": {},
   "outputs": [],
   "source": [
    "plt.rc('font', family='Malgun Gothic')"
   ]
  },
  {
   "cell_type": "code",
   "execution_count": 3,
   "metadata": {},
   "outputs": [],
   "source": [
    "station_list=[]\n",
    "for i in os.listdir(\"./station_list\"):\n",
    "    station_list.append(i)"
   ]
  },
  {
   "cell_type": "code",
   "execution_count": 4,
   "metadata": {},
   "outputs": [],
   "source": [
    "def read_csv_only_one(station_name, year, month):\n",
    "    if year != '2020':\n",
    "        df1 = pd.read_csv(f'station_list/{station_name}/{year}/{station_name}_{year}_{month}.csv')\n",
    "    else:\n",
    "        df1 = pd.read_csv(f'station_list/{station_name}/{year}/{station_name}_2020_1.csv')\n",
    "    return df1"
   ]
  },
  {
   "cell_type": "code",
   "execution_count": 5,
   "metadata": {},
   "outputs": [],
   "source": [
    "def make_pmList(df):\n",
    "    pm10=[]\n",
    "    pm2_5=[]\n",
    "    for i in df['pm10']:\n",
    "        pm10.append(i)\n",
    "    for i in df['pm2.5']:\n",
    "        pm2_5.append(i)\n",
    "    return pm10, pm2_5"
   ]
  },
  {
   "cell_type": "code",
   "execution_count": 56,
   "metadata": {},
   "outputs": [],
   "source": [
    "df1 = read_csv_only_one('Yongsan_Hangandaero','2019','1')\n",
    "df2 = read_csv_only_one('Yongsan_Hannamdaero','2019','1')"
   ]
  },
  {
   "cell_type": "code",
   "execution_count": 64,
   "metadata": {},
   "outputs": [
    {
     "data": {
      "text/html": [
       "<div>\n",
       "<style scoped>\n",
       "    .dataframe tbody tr th:only-of-type {\n",
       "        vertical-align: middle;\n",
       "    }\n",
       "\n",
       "    .dataframe tbody tr th {\n",
       "        vertical-align: top;\n",
       "    }\n",
       "\n",
       "    .dataframe thead th {\n",
       "        text-align: right;\n",
       "    }\n",
       "</style>\n",
       "<table border=\"1\" class=\"dataframe\">\n",
       "  <thead>\n",
       "    <tr style=\"text-align: right;\">\n",
       "      <th></th>\n",
       "      <th>time</th>\n",
       "      <th>pm10</th>\n",
       "      <th>pm2.5</th>\n",
       "    </tr>\n",
       "  </thead>\n",
       "  <tbody>\n",
       "    <tr>\n",
       "      <th>0</th>\n",
       "      <td>2019-01-01:01</td>\n",
       "      <td>41.0</td>\n",
       "      <td>24.0</td>\n",
       "    </tr>\n",
       "    <tr>\n",
       "      <th>1</th>\n",
       "      <td>2019-01-01:02</td>\n",
       "      <td>42.0</td>\n",
       "      <td>31.0</td>\n",
       "    </tr>\n",
       "    <tr>\n",
       "      <th>2</th>\n",
       "      <td>2019-01-01:03</td>\n",
       "      <td>43.0</td>\n",
       "      <td>29.0</td>\n",
       "    </tr>\n",
       "    <tr>\n",
       "      <th>3</th>\n",
       "      <td>2019-01-01:04</td>\n",
       "      <td>46.0</td>\n",
       "      <td>33.0</td>\n",
       "    </tr>\n",
       "    <tr>\n",
       "      <th>4</th>\n",
       "      <td>2019-01-01:05</td>\n",
       "      <td>48.0</td>\n",
       "      <td>37.0</td>\n",
       "    </tr>\n",
       "  </tbody>\n",
       "</table>\n",
       "</div>"
      ],
      "text/plain": [
       "            time  pm10  pm2.5\n",
       "0  2019-01-01:01  41.0   24.0\n",
       "1  2019-01-01:02  42.0   31.0\n",
       "2  2019-01-01:03  43.0   29.0\n",
       "3  2019-01-01:04  46.0   33.0\n",
       "4  2019-01-01:05  48.0   37.0"
      ]
     },
     "execution_count": 64,
     "metadata": {},
     "output_type": "execute_result"
    }
   ],
   "source": [
    "df1.head()"
   ]
  },
  {
   "cell_type": "code",
   "execution_count": 57,
   "metadata": {},
   "outputs": [
    {
     "data": {
      "text/plain": [
       "41.0"
      ]
     },
     "execution_count": 57,
     "metadata": {},
     "output_type": "execute_result"
    }
   ],
   "source": [
    "df1.loc[0]['pm10']"
   ]
  },
  {
   "cell_type": "code",
   "execution_count": 63,
   "metadata": {},
   "outputs": [
    {
     "data": {
      "text/plain": [
       "42.0"
      ]
     },
     "execution_count": 63,
     "metadata": {},
     "output_type": "execute_result"
    }
   ],
   "source": [
    "df1.loc[1]['pm10']"
   ]
  },
  {
   "cell_type": "code",
   "execution_count": 58,
   "metadata": {},
   "outputs": [],
   "source": [
    "temp=[]\n",
    "for i in range(len(df1)):\n",
    "    if i%24 == 0:\n",
    "        temp.append(df1.loc[i]['pm10'])"
   ]
  },
  {
   "cell_type": "code",
   "execution_count": 55,
   "metadata": {
    "collapsed": true
   },
   "outputs": [
    {
     "data": {
      "text/plain": [
       "[48.0,\n",
       " 28.0,\n",
       " 33.0,\n",
       " 31.0,\n",
       " 34.0,\n",
       " 43.0,\n",
       " 28.0,\n",
       " 12.0,\n",
       " 11.0,\n",
       " 13.0,\n",
       " 4.0,\n",
       " 6.0,\n",
       " 23.0,\n",
       " 41.0,\n",
       " 58.0,\n",
       " nan,\n",
       " 60.0,\n",
       " 96.0,\n",
       " 47.0,\n",
       " 9.0,\n",
       " nan,\n",
       " 44.0,\n",
       " 18.0,\n",
       " 21.0,\n",
       " 31.0,\n",
       " 58.0,\n",
       " 26.0,\n",
       " 19.0,\n",
       " 17.0,\n",
       " 16.0,\n",
       " 25.0]"
      ]
     },
     "execution_count": 55,
     "metadata": {},
     "output_type": "execute_result"
    }
   ],
   "source": [
    "temp"
   ]
  },
  {
   "cell_type": "code",
   "execution_count": 68,
   "metadata": {},
   "outputs": [
    {
     "data": {
      "text/plain": [
       "[0,\n",
       " 41.0,\n",
       " 42.0,\n",
       " 43.0,\n",
       " 46.0,\n",
       " 48.0,\n",
       " 45.0,\n",
       " 44.0,\n",
       " 30.0,\n",
       " 33.0,\n",
       " 32.0,\n",
       " 36.0,\n",
       " 36.0,\n",
       " 46.0,\n",
       " 44.0,\n",
       " 46.0,\n",
       " 42.0,\n",
       " 36.0,\n",
       " 34.0,\n",
       " 31.0,\n",
       " 36.0,\n",
       " 31.0,\n",
       " 30.0,\n",
       " 24.0,\n",
       " 20.0]"
      ]
     },
     "execution_count": 68,
     "metadata": {},
     "output_type": "execute_result"
    }
   ],
   "source": [
    "pm10 = [[0 for _ in range(25)] for _ in range(32)]\n",
    "for time in range(1,25):\n",
    "    temp=[0,]\n",
    "    for i in range(len(df1)):\n",
    "        if i%24 == time-1:\n",
    "            temp.append(df1.loc[i]['pm10'])\n",
    "    for j in range(1, 25):\n",
    "        pm10[j][time] = temp[j]\n",
    "pm10[1]"
   ]
  },
  {
   "cell_type": "code",
   "execution_count": 59,
   "metadata": {},
   "outputs": [],
   "source": [
    "pm10 = [[0 for _ in range(25)] for _ in range(32)]"
   ]
  },
  {
   "cell_type": "code",
   "execution_count": 62,
   "metadata": {},
   "outputs": [
    {
     "data": {
      "text/plain": [
       "25"
      ]
     },
     "execution_count": 62,
     "metadata": {},
     "output_type": "execute_result"
    }
   ],
   "source": [
    "for i in range(len(temp)):\n",
    "    pm10[i][1] = temp[i]\n",
    "len(pm10[1]) # 1시"
   ]
  },
  {
   "cell_type": "code",
   "execution_count": 54,
   "metadata": {},
   "outputs": [
    {
     "data": {
      "text/plain": [
       "28.0"
      ]
     },
     "execution_count": 54,
     "metadata": {},
     "output_type": "execute_result"
    }
   ],
   "source": [
    "# 1시 ~ 24시\n",
    "# pm[1] ~ pm[24]\n",
    "# pm10[1][1]\n",
    "# pm10['날짜']['시']"
   ]
  },
  {
   "cell_type": "code",
   "execution_count": null,
   "metadata": {},
   "outputs": [],
   "source": []
  }
 ],
 "metadata": {
  "kernelspec": {
   "display_name": "Python 3",
   "language": "python",
   "name": "python3"
  },
  "language_info": {
   "codemirror_mode": {
    "name": "ipython",
    "version": 3
   },
   "file_extension": ".py",
   "mimetype": "text/x-python",
   "name": "python",
   "nbconvert_exporter": "python",
   "pygments_lexer": "ipython3",
   "version": "3.7.3"
  }
 },
 "nbformat": 4,
 "nbformat_minor": 2
}
