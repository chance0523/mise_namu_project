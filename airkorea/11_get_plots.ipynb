{
 "cells": [
  {
   "cell_type": "code",
   "execution_count": 1,
   "metadata": {},
   "outputs": [],
   "source": [
    "import pandas as pd\n",
    "import matplotlib.pyplot as plt\n",
    "import matplotlib.font_manager as fm\n",
    "from matplotlib import rcParams\n",
    "from pylab import *\n",
    "import numpy as np\n",
    "import os"
   ]
  },
  {
   "cell_type": "code",
   "execution_count": 2,
   "metadata": {},
   "outputs": [],
   "source": [
    "hangul_station_Dict = {\n",
    "    'Dobong_Sirubong' : '도봉구 시루봉로',\n",
    "    'Dongdaemoon_Cheonhodaero' : '동대문구 천호대로',\n",
    "    'Dongdaemoon_Hongreungro' : '동대문구 홍릉로',\n",
    "    'Dongjak_Dongjakdaero' : '동작구 동작대로',\n",
    "    'Dongjak_Sadangro' : '동작구 사당로',\n",
    "    'Enpyeong_JinHeungro' : '은평구 진흥로',\n",
    "    'Gangbuk_Samyangro' : '강북구 삼양로',\n",
    "    'Gangdong_Cheonhodaero' : '강동구 천호대로',\n",
    "    'Gangdong_Gucheonmeonro' :'강동구 구천면로',\n",
    "    'Gangnam_Dosandaero' : '강남구 도산대로',\n",
    "    'Gangnam_Hakdongro' : '강남구 학동대로',\n",
    "    'Gangseo_Gangseoro' : '강서구 강서로',\n",
    "    'Gangseo_Magokdong' : '강서구 마곡동',\n",
    "    'Geumcheon_Doksandong' : '금천구 독산동',\n",
    "    'Geumcheon_Geumharo' : '금천구 금하로',\n",
    "    'Guro_Gamasanro' : '구로구 가마산로',\n",
    "    'Gwanak_Sinrim' : '관악구 신림동길',\n",
    "    'Gwangjin_Gwangnaruro' : '광진구 광나루로',\n",
    "    'Jongno_Jongno' : '종로구 종로',\n",
    "    'Jongro_Jonro35gagil' : '종로구 종로35가길',\n",
    "    'Joong_Deoksugunggil' : '중구 덕수궁길',\n",
    "    'Jungnang_Yongmasanro' : '중랑구 용마산로',\n",
    "    'Jung_Cheonggaecheonro' : '중구 청계천로',\n",
    "    'Mapo_Nogosandong' : '마포구 노고산동',\n",
    "    'Mapo_Poeunro' : '마포구 포은로',\n",
    "    'Nowon_Hwarang' : '노원구 화랑로',\n",
    "    'Nowon_Sangyero' : '노원구 상계로',\n",
    "    'Seocho_Gangnamdaero' : '서초구 강남대로',\n",
    "    'Seocho_Sinbanporo' : '서초구 신반포로',\n",
    "    'Seodaemoon_Segeomjeongro' : '서대문구 세검정로',\n",
    "    'Seongbuk_Donamdong' : '성북구 돈암동',\n",
    "    'Seongbuk_Samyangro2gil' : '성북구 삼양로2길',\n",
    "    'Seongdong_Ddukseomro' : '성동구 뚝섬로',\n",
    "    'Seongdong_Ganbyeonbukro' : '성동구 강변북로',\n",
    "    'Songpagu_Baekjegobunro' : '송파구 백제고분로',\n",
    "    'Yangcheon_Chungang' : '양천구 중앙로',\n",
    "    'Yeongdengpo_Dangsan' : '영등포구 당산로',\n",
    "    'Yeongdeungpo_Yeongjungro' : '영등포구 영중로',\n",
    "    'Yongsan_Hangandaero' : '용산구 한강대로',\n",
    "    'Yongsan_Hannamdaero' : '용산구 한남대로'\n",
    "}"
   ]
  },
  {
   "cell_type": "code",
   "execution_count": 3,
   "metadata": {},
   "outputs": [],
   "source": [
    "hangul_station_list=[]\n",
    "for station_list in hangul_station_Dict.keys():\n",
    "    hangul_station_list.append(station_list)"
   ]
  },
  {
   "cell_type": "code",
   "execution_count": 4,
   "metadata": {},
   "outputs": [],
   "source": [
    "plt.rc('font', family='Malgun Gothic')"
   ]
  },
  {
   "cell_type": "code",
   "execution_count": 5,
   "metadata": {},
   "outputs": [],
   "source": [
    "plt.style.use(['ggplot'])"
   ]
  },
  {
   "cell_type": "code",
   "execution_count": 6,
   "metadata": {},
   "outputs": [],
   "source": [
    "def read_csv_ym(station_name1, station_name2, year, month):\n",
    "    if year != '2020':\n",
    "        df1 = pd.read_csv(f'station_name_no_nan/{station_name1}/{year}/{station_name1}_{year}_{month}.csv')\n",
    "        df2 = pd.read_csv(f'station_name_no_nan/{station_name2}/{year}/{station_name2}_{year}_{month}.csv')\n",
    "    else:\n",
    "        df1 = pd.read_csv(f'station_name_no_nan/{station_name1}/{year}/{station_name1}_2020_1.csv')\n",
    "        df2 = pd.read_csv(f'station_name_no_nan/{station_name2}/{year}/{station_name2}_2020_1.csv')\n",
    "    return df1, df2"
   ]
  },
  {
   "cell_type": "code",
   "execution_count": 7,
   "metadata": {},
   "outputs": [],
   "source": [
    "def make_list(df, pm, date):\n",
    "    resultArr = np.zeros((25,date))\n",
    "    if pm == 10:\n",
    "        # DataFrame.'특성명'.'데이터'.'행렬'.'transpose'\n",
    "        pm10_Arr = df.pm10.values.reshape(date,24).T\n",
    "        # 행렬 연산을 통해 위의 24x31행렬을 25x32행렬로 확장해줌\n",
    "        resultArr[1:,:] = resultArr[1:,:] + pm10_Arr\n",
    "        return resultArr.tolist()\n",
    "    elif pm == 2.5:\n",
    "        pm25_Arr = df.pm25.values.reshape(date,24).T\n",
    "        resultArr[1:,:] = resultArr[1:,:] + pm25_Arr\n",
    "        return resultArr.tolist()\n",
    "    else:\n",
    "        print('check your pm!!!')"
   ]
  },
  {
   "cell_type": "code",
   "execution_count": 8,
   "metadata": {},
   "outputs": [],
   "source": [
    "def make_si_list(df, month, pm):\n",
    "    month31 = ['1','3','5','7','8','10','12']\n",
    "    month30 = ['4','6','9','11']\n",
    "    month28 = ['2'] # 2016년 2월은 그냥 빼자...\n",
    "    # 31일까지 있는 달\n",
    "    if month in month31:\n",
    "        return make_list(df, pm, 31)\n",
    "    # 30일까지 있는 달\n",
    "    elif month in month30:\n",
    "        return make_list(df, pm, 30)\n",
    "    # 28일까지 있는 달\n",
    "    elif month in month28:\n",
    "        return make_list(df, pm, 28)\n",
    "    else:\n",
    "        print(\"isn't your year 2016 ???\")"
   ]
  },
  {
   "cell_type": "code",
   "execution_count": 9,
   "metadata": {},
   "outputs": [],
   "source": [
    "# 결측치 0 을 지우는 함수\n",
    "def del_nan(si_list1, si_list2):\n",
    "    new_si_list1=[]\n",
    "    new_si_list2=[]\n",
    "    for i in range(len(si_list1)):\n",
    "        if (si_list1[i] * si_list2[i]) != 0:\n",
    "            new_si_list1.append(si_list1[i])\n",
    "            new_si_list2.append(si_list2[i])\n",
    "    return new_si_list1, new_si_list2"
   ]
  },
  {
   "cell_type": "code",
   "execution_count": 10,
   "metadata": {},
   "outputs": [],
   "source": [
    "# 변수의 이름을 가져와서 label을 만들기 쉽게 한다.\n",
    "def namestr(obj):\n",
    "    return [name for name in globals() if globals()[name] is obj][0]"
   ]
  },
  {
   "cell_type": "code",
   "execution_count": 11,
   "metadata": {},
   "outputs": [],
   "source": [
    "def plot_compare(station1, station2, time):\n",
    "    st1, st2 = del_nan(station1[time], station2[time])\n",
    "    plt.plot(st1, label=f'{namestr(station1)} : {time}시')\n",
    "    plt.plot(st2, label=f'{namestr(station2)} : {time}시')"
   ]
  },
  {
   "cell_type": "code",
   "execution_count": 12,
   "metadata": {},
   "outputs": [],
   "source": [
    "def plot_compare_rev1(station1, station2, time):\n",
    "    plt.plot(station1, label=f'{namestr(station1)} : {time}시')\n",
    "    plt.plot(station2, label=f'{namestr(station2)} : {time}시')"
   ]
  },
  {
   "cell_type": "code",
   "execution_count": 13,
   "metadata": {},
   "outputs": [],
   "source": [
    "def biyul_cal(list1,list2):\n",
    "    tlen = len(list1) # list의 크기 (nan 값을 제외한)\n",
    "    sumA = sumB = 0\n",
    "    for i in range(tlen):\n",
    "        sumA += list1[i]\n",
    "        sumB += list2[i]\n",
    "    biyul = (sumA/sumB)*100\n",
    "    biyul = round(biyul,2)\n",
    "    return biyul"
   ]
  },
  {
   "cell_type": "code",
   "execution_count": 14,
   "metadata": {},
   "outputs": [],
   "source": [
    "def biyul_plot(st1, st2, year, time):\n",
    "    biyul_list=[]\n",
    "    for month in range(1,13):\n",
    "        month = str(month)\n",
    "        df1, df2 = read_csv_ym(st1, st2, year, month) # df 읽어오기\n",
    "        # 'time' 시각의 list 생성 (결측치도 삭제)\n",
    "        hangangdaero, hannamdaero = del_nan(make_si_list(df1, month, 10)[time], make_si_list(df2, month, 10)[time])\n",
    "        # 리스트에 평균 차이 저장\n",
    "        biyul_list.append(biyul_cal(hangangdaero, hannamdaero))\n",
    "    return biyul_list"
   ]
  },
  {
   "cell_type": "code",
   "execution_count": 15,
   "metadata": {},
   "outputs": [],
   "source": [
    "def savefig_biyul(st1, st2, year, my_suptitle):\n",
    "    if not os.path.exists(f'figures/{st1}_{st2}_compare'):\n",
    "        os.makedirs(f'figures/{st1}_{st2}_compare')\n",
    "    if not os.path.exists(f'figures/{st1}_{st2}_compare/biyul'):\n",
    "        os.makedirs(f'figures/{st1}_{st2}_compare/biyul')\n",
    "    plt.savefig(f'figures/{st1}_{st2}_compare/biyul/{year}_{st1}_{st2}_biyul.png', bbox_inches='tight', bbox_extra_artists=[my_suptitle])"
   ]
  },
  {
   "cell_type": "code",
   "execution_count": 16,
   "metadata": {},
   "outputs": [],
   "source": [
    "def savefig_chai(st1, st2, year, time, my_suptitle):\n",
    "    if not os.path.exists(f'figures/{st1}_{st2}_compare'):\n",
    "        os.makedirs(f'figures/{st1}_{st2}_compare')\n",
    "    if not os.path.exists(f'figures/{st1}_{st2}_compare/chai'):\n",
    "        os.makedirs(f'figures/{st1}_{st2}_compare/chai')\n",
    "    if not os.path.exists(f'figures/{st1}_{st2}_compare/chai/{year}'):\n",
    "        os.makedirs(f'figures/{st1}_{st2}_compare/chai/{year}')\n",
    "    if not os.path.exists(f'figures/{st1}_{st2}_compare'):\n",
    "        os.makedirs(f'figures/{st1}_{st2}_compare')\n",
    "    if not os.path.exists(f'figures/{st1}_{st2}_compare/chai'):\n",
    "        os.makedirs(f'figures/{st1}_{st2}_compare/chai')\n",
    "    if not os.path.exists(f'figures/{st1}_{st2}_compare/chai/{year}'):\n",
    "        os.makedirs(f'figures/{st1}_{st2}_compare/chai/{year}')\n",
    "    plt.savefig(f'figures/{st1}_{st2}_compare/chai/{year}/{st1}_{st2}_{year}_{time}_chai.png', bbox_inches='tight', bbox_extra_artists=[my_suptitle])"
   ]
  },
  {
   "cell_type": "code",
   "execution_count": 17,
   "metadata": {},
   "outputs": [],
   "source": [
    "def biyul_save(yearList, st1, st2, st1_hangul, st2_hangul):\n",
    "    for year in yearList:\n",
    "        plt.figure(figsize=(15,15))\n",
    "        for time in range(1,25):\n",
    "            biyul_list=[]\n",
    "            for month in range(1,13):\n",
    "                month = str(month)\n",
    "                df1, df2 = read_csv_ym(st1, st2, year, month) # df 읽어오기\n",
    "                # 'time' 시각의 list 생성 (결측치도 삭제)\n",
    "                st_list1, st_list2 = del_nan(make_si_list(df1, month, 10)[time], make_si_list(df2, month, 10)[time])\n",
    "                if len(st_list1) * len(st_list2) != 0:\n",
    "                    biyul_list.append(biyul_cal(st_list1, st_list2))\n",
    "            plt.subplot(6,4,int(time))\n",
    "            plt.plot(biyul_list)\n",
    "\n",
    "            plt.title(f'{time}시')\n",
    "\n",
    "            plt.plot(for120,'b')\n",
    "            plt.plot(for100,'g')\n",
    "            plt.plot(for80,'b')\n",
    "\n",
    "\n",
    "        plt.tight_layout()\n",
    "        my_suptitle = plt.suptitle(f\"{st1_hangul}, {st2_hangul} 비율 비교 (x축 : 월, y축 : 비율 (%))\", position=(0.5, 1.0+0.05), fontsize=32)\n",
    "        \n",
    "        plt.rcParams.update({'figure.max_open_warning':0})\n",
    "        savefig_biyul(st1,st2,year,my_suptitle)"
   ]
  },
  {
   "cell_type": "code",
   "execution_count": 18,
   "metadata": {},
   "outputs": [],
   "source": [
    "def biyul_save(yearList, st1, st2, st1_hangul, st2_hangul):\n",
    "    for year in yearList:\n",
    "        plt.figure(figsize=(15,15))\n",
    "        for time in range(1,25):\n",
    "            biyul_list=[]\n",
    "            for month in range(1,13):\n",
    "                month = str(month)\n",
    "                df1, df2 = read_csv_ym(st1, st2, year, month) # df 읽어오기\n",
    "                # 'time' 시각의 list 생성 (결측치도 삭제)\n",
    "                st_list1, st_list2 = del_nan(make_si_list(df1, month, 10)[time], make_si_list(df2, month, 10)[time])\n",
    "                if len(st_list1) * len(st_list2) != 0:\n",
    "                    biyul_list.append(biyul_cal(st_list1, st_list2))\n",
    "            plt.subplot(6,4,int(time))\n",
    "            plt.plot(biyul_list)\n",
    "\n",
    "            plt.title(f'{time}시')\n",
    "\n",
    "            plt.plot(for120,'b')\n",
    "            plt.plot(for100,'g')\n",
    "            plt.plot(for80,'b')\n",
    "\n",
    "\n",
    "        plt.tight_layout()\n",
    "        my_suptitle = plt.suptitle(f\"{year}년 {st1_hangul}, {st2_hangul} 비율 비교\\n(x축 : 월, y축 : 비율 (%))\", position=(0.5, 1.0+0.05), fontsize=32)\n",
    "        \n",
    "        plt.rcParams.update({'figure.max_open_warning':0})\n",
    "        savefig_biyul(st1,st2,year,my_suptitle)"
   ]
  },
  {
   "cell_type": "code",
   "execution_count": 19,
   "metadata": {},
   "outputs": [],
   "source": [
    "def chai_save(yearList, st1, st2, st1_hangul, st2_hangul):\n",
    "    for year in yearList:\n",
    "        for time in range(1,25):\n",
    "            plt.figure(figsize=(15,9))\n",
    "            for month in range(1,13):\n",
    "                month = str(month)\n",
    "                df1, df2 = read_csv_ym(st1, st2, year, month) # df 읽어오기\n",
    "                # 'time' 시각의 list 생성 (결측치도 삭제)\n",
    "                st_list1, st_list2 = del_nan(make_si_list(df1, month, 10)[time], make_si_list(df2, month, 10)[time])\n",
    "#                 if len(st_list1) * len(st_list2) != 0:\n",
    "                plt.subplot(4,3,int(month))\n",
    "                plt.plot(st_list1)\n",
    "                plt.plot(st_list2)\n",
    "                plt.title(f'{month}월')\n",
    "\n",
    "            plt.tight_layout()\n",
    "            my_suptitle = plt.suptitle(f\"{year}년 {time}시 {st1_hangul}, {st2_hangul} 차이 비교\\n(x축 : 일, y축 : 농도)\", position=(0.5, 1.0+0.05), fontsize=32)\n",
    "            \n",
    "            plt.rcParams.update({'figure.max_open_warning':0})\n",
    "            savefig_chai(st1, st2, year, time, my_suptitle)"
   ]
  },
  {
   "cell_type": "code",
   "execution_count": 20,
   "metadata": {},
   "outputs": [],
   "source": [
    "for120 = [120 for i in range(12)]\n",
    "for100 = [100 for i in range(12)]\n",
    "for80 = [80 for i in range(12)]\n",
    "\n",
    "yearList = ['2017','2018','2019']"
   ]
  },
  {
   "cell_type": "code",
   "execution_count": 21,
   "metadata": {},
   "outputs": [],
   "source": [
    "st1 = 'Seongbuk_Donamdong'\n",
    "st2 = 'Seongbuk_Samyangro2gil'"
   ]
  },
  {
   "cell_type": "code",
   "execution_count": null,
   "metadata": {},
   "outputs": [
    {
     "name": "stdout",
     "output_type": "stream",
     "text": [
      "biyul complete\n"
     ]
    }
   ],
   "source": [
    "biyul_save(yearList, st1, st2, hangul_station_Dict[st1], hangul_station_Dict[st2])\n",
    "print('biyul complete')\n",
    "chai_save(yearList, st1, st2, hangul_station_Dict[st1], hangul_station_Dict[st2])    "
   ]
  },
  {
   "cell_type": "code",
   "execution_count": null,
   "metadata": {},
   "outputs": [],
   "source": []
  }
 ],
 "metadata": {
  "kernelspec": {
   "display_name": "Python 3",
   "language": "python",
   "name": "python3"
  },
  "language_info": {
   "codemirror_mode": {
    "name": "ipython",
    "version": 3
   },
   "file_extension": ".py",
   "mimetype": "text/x-python",
   "name": "python",
   "nbconvert_exporter": "python",
   "pygments_lexer": "ipython3",
   "version": "3.7.3"
  }
 },
 "nbformat": 4,
 "nbformat_minor": 2
}
