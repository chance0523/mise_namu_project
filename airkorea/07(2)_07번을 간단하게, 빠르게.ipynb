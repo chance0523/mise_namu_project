{
 "cells": [
  {
   "cell_type": "code",
   "execution_count": 1,
   "metadata": {},
   "outputs": [],
   "source": [
    "import pandas as pd\n",
    "import matplotlib.pyplot as plt\n",
    "import matplotlib.font_manager as fm\n",
    "from matplotlib import rcParams\n",
    "import numpy as np\n",
    "import os"
   ]
  },
  {
   "cell_type": "code",
   "execution_count": 2,
   "metadata": {},
   "outputs": [],
   "source": [
    "plt.rc('font', family='Malgun Gothic')"
   ]
  },
  {
   "cell_type": "code",
   "execution_count": 3,
   "metadata": {},
   "outputs": [],
   "source": [
    "station_list=[]\n",
    "for i in os.listdir(\"./station_list\"):\n",
    "    station_list.append(i)"
   ]
  },
  {
   "cell_type": "code",
   "execution_count": 27,
   "metadata": {},
   "outputs": [],
   "source": [
    "def read_csv_ym(station_name, year, month):\n",
    "    if year != '2020':\n",
    "        df1 = pd.read_csv(f'station_name_no_nan/{station_name}/{year}/{station_name}_{year}_{month}.csv')\n",
    "    else:\n",
    "        df1 = pd.read_csv(f'station_list/{station_name}/{year}/{station_name}_2020_1.csv')\n",
    "    return df1, month"
   ]
  },
  {
   "cell_type": "code",
   "execution_count": 18,
   "metadata": {},
   "outputs": [],
   "source": [
    "def make_si_list(df, pm):\n",
    "    resultArr = np.zeros((25,31))\n",
    "    if pm == 10:\n",
    "        # DataFrame.'특성명'.'데이터'.'행렬'.'transpose'\n",
    "        pm10_Arr = df.pm10.values.reshape(31,24).T\n",
    "        # 행렬 연산을 통해 위의 24x31행렬을 25x32행렬로 확장해줌\n",
    "        resultArr[1:,:] = resultArr[1:,:] + pm10_Arr\n",
    "        return resultArr.tolist()\n",
    "    elif pm == 2.5:\n",
    "        pm25_Arr = df.pm25.values.reshape(31,24).T\n",
    "        resultArr[1:,:] = resultArr[1:,:] + pm25_Arr\n",
    "        return resultArr.tolist()\n",
    "    else:\n",
    "        print('check your pm!!!')"
   ]
  },
  {
   "cell_type": "code",
   "execution_count": 19,
   "metadata": {},
   "outputs": [],
   "source": [
    "def make_list(df, pm, date):\n",
    "    resultArr = np.zeros((25,date))\n",
    "    if pm == 10:\n",
    "        # DataFrame.'특성명'.'데이터'.'행렬'.'transpose'\n",
    "        pm10_Arr = df.pm10.values.reshape(date,24).T\n",
    "        # 행렬 연산을 통해 위의 24x31행렬을 25x32행렬로 확장해줌\n",
    "        resultArr[1:,:] = resultArr[1:,:] + pm10_Arr\n",
    "        return resultArr.tolist()\n",
    "    elif pm == 2.5:\n",
    "        pm25_Arr = df.pm25.values.reshape(date,24).T\n",
    "        resultArr[1:,:] = resultArr[1:,:] + pm25_Arr\n",
    "        return resultArr.tolist()\n",
    "    else:\n",
    "        print('check your pm!!!')"
   ]
  },
  {
   "cell_type": "code",
   "execution_count": 20,
   "metadata": {},
   "outputs": [],
   "source": [
    "def make_si_list_rev2(df, month, pm):\n",
    "    month31 = ['1','3','5','7','8','10','12']\n",
    "    month30 = ['4','6','9','11']\n",
    "    month28 = ['2'] # 2016년 2월은 그냥 빼자...\n",
    "    # 31일까지 있는 달\n",
    "    if month in month31:\n",
    "        return make_list(df, pm, 31)\n",
    "    # 30일까지 있는 달\n",
    "    elif month in month30:\n",
    "        return make_list(df, pm, 30)\n",
    "    # 28일까지 있는 달\n",
    "    elif month in month28:\n",
    "        return make_list(df, pm, 28)\n",
    "    else:\n",
    "        print(\"isn't your year 2016 ???\")"
   ]
  },
  {
   "cell_type": "code",
   "execution_count": 21,
   "metadata": {},
   "outputs": [],
   "source": [
    "# 결측치 0 을 지우는 함수\n",
    "def del_nan(si_list1, si_list2):\n",
    "    new_si_list1=[]\n",
    "    new_si_list2=[]\n",
    "    for i in range(len(si_list1)):\n",
    "        if (si_list1[i] * si_list2[i]) != 0:\n",
    "            new_si_list1.append(si_list1[i])\n",
    "            new_si_list2.append(si_list2[i])\n",
    "    return new_si_list1, new_si_list2"
   ]
  },
  {
   "cell_type": "code",
   "execution_count": 22,
   "metadata": {},
   "outputs": [],
   "source": [
    "# 변수의 이름을 가져와서 label을 만들기 쉽게 한다.\n",
    "def namestr(obj):\n",
    "    return [name for name in globals() if globals()[name] is obj][0]"
   ]
  },
  {
   "cell_type": "code",
   "execution_count": 23,
   "metadata": {},
   "outputs": [],
   "source": [
    "def plot_compare(station1, station2, time):\n",
    "    st1, st2 = del_nan(station1[time], station2[time])\n",
    "    plt.plot(st1, label=f'{namestr(station1)} : {time}시')\n",
    "    plt.plot(st2, label=f'{namestr(station2)} : {time}시')"
   ]
  },
  {
   "cell_type": "code",
   "execution_count": 28,
   "metadata": {
    "scrolled": true
   },
   "outputs": [],
   "source": [
    "df1, month1 = read_csv_ym('Yongsan_Hangandaero','2019','7')\n",
    "df2, month2 = read_csv_ym('Yongsan_Hannamdaero','2019','7')"
   ]
  },
  {
   "cell_type": "code",
   "execution_count": 29,
   "metadata": {},
   "outputs": [],
   "source": [
    "hangangdaero = make_si_list_rev2(df1, month1, 10)\n",
    "hannamdaero = make_si_list_rev2(df2, month2, 10)"
   ]
  },
  {
   "cell_type": "code",
   "execution_count": 30,
   "metadata": {},
   "outputs": [
    {
     "data": {
      "image/png": "[encoded data removed]",
      "text/plain": [
       "<Figure size 432x288 with 1 Axes>"
      ]
     },
     "metadata": {
      "needs_background": "light"
     },
     "output_type": "display_data"
    }
   ],
   "source": [
    "plot_compare(hangangdaero, hannamdaero, 20)\n",
    "\n",
    "plt.legend()\n",
    "plt.xlabel('일')\n",
    "plt.ylabel('미세먼지 농도')\n",
    "plt.show()"
   ]
  },
  {
   "cell_type": "code",
   "execution_count": null,
   "metadata": {},
   "outputs": [],
   "source": []
  }
 ],
 "metadata": {
  "kernelspec": {
   "display_name": "Python 3",
   "language": "python",
   "name": "python3"
  },
  "language_info": {
   "codemirror_mode": {
    "name": "ipython",
    "version": 3
   },
   "file_extension": ".py",
   "mimetype": "text/x-python",
   "name": "python",
   "nbconvert_exporter": "python",
   "pygments_lexer": "ipython3",
   "version": "3.7.3"
  }
 },
 "nbformat": 4,
 "nbformat_minor": 2
}
