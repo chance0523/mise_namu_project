{
 "cells": [
  {
   "cell_type": "code",
   "execution_count": 1,
   "metadata": {},
   "outputs": [],
   "source": [
    "import pandas as pd\n",
    "import matplotlib.pyplot as plt\n",
    "import matplotlib.font_manager as fm\n",
    "from matplotlib import rcParams\n",
    "import numpy as np\n",
    "import os"
   ]
  },
  {
   "cell_type": "code",
   "execution_count": 2,
   "metadata": {},
   "outputs": [],
   "source": [
    "plt.rc('font', family='Malgun Gothic')"
   ]
  },
  {
   "cell_type": "code",
   "execution_count": 3,
   "metadata": {},
   "outputs": [],
   "source": [
    "station_list=[]\n",
    "for i in os.listdir(\"./station_list\"):\n",
    "    station_list.append(i)"
   ]
  },
  {
   "cell_type": "code",
   "execution_count": 4,
   "metadata": {},
   "outputs": [],
   "source": [
    "def read_csv_ym(station_name, year, month):\n",
    "    if year != '2020':\n",
    "        df1 = pd.read_csv(f'station_list/{station_name}/{year}/{station_name}_{year}_{month}.csv')\n",
    "    else:\n",
    "        df1 = pd.read_csv(f'station_list/{station_name}/{year}/{station_name}_2020_1.csv')\n",
    "    return df1"
   ]
  },
  {
   "cell_type": "code",
   "execution_count": 5,
   "metadata": {},
   "outputs": [],
   "source": [
    "def make_si_list(df, pm):\n",
    "    resultArr = np.zeros((25,32))\n",
    "    if pm == 10:\n",
    "        # DataFrame.'특성명'.'데이터'.'행렬'.'transpose'\n",
    "        pm10_Arr = df.pm10.values.reshape(31,24).T\n",
    "        # 행렬 연산을 통해 위의 24x31행렬을 25x32행렬로 확장해줌\n",
    "        resultArr[1:,1:] = resultArr[1:,1:] + pm10_Arr\n",
    "        return resultArr.tolist()\n",
    "    elif pm == 2.5:\n",
    "        pm25_Arr = df.pm25.values.reshape(31,24).T\n",
    "        resultArr[1:,1:] = resultArr[1:,1:] + pm25_Arr\n",
    "        return resultArr.tolist()\n",
    "    else:\n",
    "        print('check your pm!!!')"
   ]
  },
  {
   "cell_type": "code",
   "execution_count": 6,
   "metadata": {},
   "outputs": [],
   "source": [
    "df1 = read_csv_ym('Yongsan_Hangandaero','2019','1')\n",
    "df2 = read_csv_ym('Yongsan_Hannamdaero','2019','1')"
   ]
  },
  {
   "cell_type": "code",
   "execution_count": 19,
   "metadata": {
    "collapsed": true
   },
   "outputs": [
    {
     "data": {
      "text/plain": [
       "[0.0,\n",
       " 43.0,\n",
       " 23.0,\n",
       " 33.0,\n",
       " 59.0,\n",
       " 130.0,\n",
       " 54.0,\n",
       " 38.0,\n",
       " 33.0,\n",
       " 41.0,\n",
       " 49.0,\n",
       " 52.0,\n",
       " 94.0,\n",
       " 107.0,\n",
       " 127.0,\n",
       " 177.0,\n",
       " 64.0,\n",
       " 30.0,\n",
       " 25.0,\n",
       " 102.0,\n",
       " 125.0,\n",
       " 39.0,\n",
       " 66.0,\n",
       " 87.0,\n",
       " 46.0,\n",
       " 26.0,\n",
       " 51.0,\n",
       " 39.0,\n",
       " 33.0,\n",
       " 85.0,\n",
       " 58.0,\n",
       " 88.0]"
      ]
     },
     "execution_count": 19,
     "metadata": {},
     "output_type": "execute_result"
    }
   ],
   "source": [
    "make_si_list(df1, 10)[1] # 1시\n",
    "make_si_list(df1, 10)[2] # 2시\n",
    "make_si_list(df1, 10)[3] # 3시"
   ]
  },
  {
   "cell_type": "code",
   "execution_count": null,
   "metadata": {},
   "outputs": [],
   "source": []
  },
  {
   "cell_type": "code",
   "execution_count": null,
   "metadata": {},
   "outputs": [],
   "source": []
  }
 ],
 "metadata": {
  "kernelspec": {
   "display_name": "Python 3",
   "language": "python",
   "name": "python3"
  },
  "language_info": {
   "codemirror_mode": {
    "name": "ipython",
    "version": 3
   },
   "file_extension": ".py",
   "mimetype": "text/x-python",
   "name": "python",
   "nbconvert_exporter": "python",
   "pygments_lexer": "ipython3",
   "version": "3.7.3"
  }
 },
 "nbformat": 4,
 "nbformat_minor": 2
}
