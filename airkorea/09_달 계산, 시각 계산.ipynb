{
 "cells": [
  {
   "cell_type": "code",
   "execution_count": 1,
   "metadata": {},
   "outputs": [],
   "source": [
    "import pandas as pd\n",
    "import matplotlib.pyplot as plt\n",
    "import matplotlib.font_manager as fm\n",
    "from matplotlib import rcParams\n",
    "import numpy as np\n",
    "import os"
   ]
  },
  {
   "cell_type": "code",
   "execution_count": 2,
   "metadata": {},
   "outputs": [],
   "source": [
    "plt.rc('font', family='Malgun Gothic')"
   ]
  },
  {
   "cell_type": "code",
   "execution_count": 3,
   "metadata": {},
   "outputs": [],
   "source": [
    "plt.style.use(['ggplot'])"
   ]
  },
  {
   "cell_type": "code",
   "execution_count": 15,
   "metadata": {},
   "outputs": [],
   "source": [
    "def read_csv_ym(station_name1, station_name2, year, month):\n",
    "    if year != '2020':\n",
    "        df1 = pd.read_csv(f'station_name_no_nan/{station_name1}/{year}/{station_name1}_{year}_{month}.csv')\n",
    "        df2 = pd.read_csv(f'station_name_no_nan/{station_name2}/{year}/{station_name2}_{year}_{month}.csv')\n",
    "    else:\n",
    "        df1 = pd.read_csv(f'station_name_no_nan/{station_name1}/{year}/{station_name1}_2020_1.csv')\n",
    "        df2 = pd.read_csv(f'station_name_no_nan/{station_name2}/{year}/{station_name2}_2020_1.csv')\n",
    "    return df1, df2"
   ]
  },
  {
   "cell_type": "code",
   "execution_count": 5,
   "metadata": {},
   "outputs": [],
   "source": [
    "def make_list(df, pm, date):\n",
    "    resultArr = np.zeros((25,date))\n",
    "    if pm == 10:\n",
    "        # DataFrame.'특성명'.'데이터'.'행렬'.'transpose'\n",
    "        pm10_Arr = df.pm10.values.reshape(date,24).T\n",
    "        # 행렬 연산을 통해 위의 24x31행렬을 25x32행렬로 확장해줌\n",
    "        resultArr[1:,:] = resultArr[1:,:] + pm10_Arr\n",
    "        return resultArr.tolist()\n",
    "    elif pm == 2.5:\n",
    "        pm25_Arr = df.pm25.values.reshape(date,24).T\n",
    "        resultArr[1:,:] = resultArr[1:,:] + pm25_Arr\n",
    "        return resultArr.tolist()\n",
    "    else:\n",
    "        print('check your pm!!!')"
   ]
  },
  {
   "cell_type": "code",
   "execution_count": 18,
   "metadata": {},
   "outputs": [],
   "source": [
    "def make_si_list(df, month, pm):\n",
    "    month31 = ['1','3','5','7','8','10','12']\n",
    "    month30 = ['4','6','9','11']\n",
    "    month28 = ['2'] # 2016년 2월은 그냥 빼자...\n",
    "    # 31일까지 있는 달\n",
    "    if month in month31:\n",
    "        return make_list(df, pm, 31)\n",
    "    # 30일까지 있는 달\n",
    "    elif month in month30:\n",
    "        return make_list(df, pm, 30)\n",
    "    # 28일까지 있는 달\n",
    "    elif month in month28:\n",
    "        return make_list(df, pm, 28)\n",
    "    else:\n",
    "        print(\"isn't your year 2016 ???\")"
   ]
  },
  {
   "cell_type": "code",
   "execution_count": 19,
   "metadata": {},
   "outputs": [],
   "source": [
    "# 결측치 0 을 지우는 함수\n",
    "def del_nan(si_list1, si_list2):\n",
    "    new_si_list1=[]\n",
    "    new_si_list2=[]\n",
    "    for i in range(len(si_list1)):\n",
    "        if (si_list1[i] * si_list2[i]) != 0:\n",
    "            new_si_list1.append(si_list1[i])\n",
    "            new_si_list2.append(si_list2[i])\n",
    "    return new_si_list1, new_si_list2"
   ]
  },
  {
   "cell_type": "code",
   "execution_count": 20,
   "metadata": {},
   "outputs": [],
   "source": [
    "# 변수의 이름을 가져와서 label을 만들기 쉽게 한다.\n",
    "def namestr(obj):\n",
    "    return [name for name in globals() if globals()[name] is obj][0]"
   ]
  },
  {
   "cell_type": "code",
   "execution_count": 21,
   "metadata": {},
   "outputs": [],
   "source": [
    "def plot_compare(station1, station2, time):\n",
    "    st1, st2 = del_nan(station1[time], station2[time])\n",
    "    plt.plot(st1, label=f'{namestr(station1)} : {time}시')\n",
    "    plt.plot(st2, label=f'{namestr(station2)} : {time}시')"
   ]
  },
  {
   "cell_type": "code",
   "execution_count": 22,
   "metadata": {},
   "outputs": [],
   "source": [
    "def plot_compare_rev1(station1, station2, time):\n",
    "    plt.plot(station1, label=f'{namestr(station1)} : {time}시')\n",
    "    plt.plot(station2, label=f'{namestr(station2)} : {time}시')"
   ]
  },
  {
   "cell_type": "code",
   "execution_count": 23,
   "metadata": {},
   "outputs": [],
   "source": [
    "st1 = 'Yongsan_Hangandaero'\n",
    "st2 = 'Yongsan_Hannamdaero'"
   ]
  },
  {
   "cell_type": "code",
   "execution_count": 24,
   "metadata": {},
   "outputs": [],
   "source": [
    "year = '2019'\n",
    "\n",
    "month = '7'"
   ]
  },
  {
   "cell_type": "code",
   "execution_count": 27,
   "metadata": {},
   "outputs": [],
   "source": [
    "df1, df2 = read_csv_ym(st1, st2, year, month)"
   ]
  },
  {
   "cell_type": "markdown",
   "metadata": {},
   "source": [
    "동일 시간 1~12월 비교"
   ]
  },
  {
   "cell_type": "code",
   "execution_count": 57,
   "metadata": {},
   "outputs": [],
   "source": [
    "def chai_cal(list1, list2):\n",
    "    tlen = len(list1) # list의 크기 (nan 값을 제외한)\n",
    "    chai_hap = 0\n",
    "    for i in range(tlen):\n",
    "        chai_hap += list1[i] - list2[i]\n",
    "    if chai_hap < 0:\n",
    "        print('chai합이 0보다 작음')\n",
    "    avg_chai = chai_hap / tlen\n",
    "    avg_chai = round(avg_chai,2)\n",
    "    return avg_chai"
   ]
  },
  {
   "cell_type": "code",
   "execution_count": 58,
   "metadata": {},
   "outputs": [],
   "source": [
    "avg_chai_list=[]\n",
    "for month in range(1,13):\n",
    "    month = str(month)\n",
    "    df1, df2 = read_csv_ym(st1, st2, year, month) # df 읽어오기\n",
    "    time = 12 # 여기를 바꿔야\n",
    "    # 'time' 시각의 list 생성 (결측치도 삭제)\n",
    "    hangangdaero, hannamdaero = del_nan(make_si_list(df1, month, 10)[time], make_si_list(df2, month, 10)[time])\n",
    "    # 리스트에 평균 차이 저장\n",
    "    avg_chai_list.append(chai_cal(hangangdaero, hannamdaero))"
   ]
  },
  {
   "cell_type": "code",
   "execution_count": 59,
   "metadata": {},
   "outputs": [
    {
     "data": {
      "image/png": "[encoded data removed]",
      "text/plain": [
       "<Figure size 432x288 with 1 Axes>"
      ]
     },
     "metadata": {},
     "output_type": "display_data"
    }
   ],
   "source": [
    "plt.plot(avg_chai_list)\n",
    "plt.show()"
   ]
  },
  {
   "cell_type": "code",
   "execution_count": 60,
   "metadata": {},
   "outputs": [],
   "source": [
    "def biyul_cal(list1,list2):\n",
    "    tlen = len(list1) # list의 크기 (nan 값을 제외한)\n",
    "    sumA = sumB = 0\n",
    "    for i in range(tlen):\n",
    "        sumA += list1[i]\n",
    "        sumB += list2[i]\n",
    "    biyul = (sumA/sumB)*100\n",
    "    biyul = round(biyul,2)\n",
    "    return biyul"
   ]
  },
  {
   "cell_type": "code",
   "execution_count": 77,
   "metadata": {},
   "outputs": [],
   "source": [
    "def biyul_plot(st1, st2, year, time):\n",
    "    biyul_list=[]\n",
    "    for month in range(1,13):\n",
    "        month = str(month)\n",
    "        df1, df2 = read_csv_ym(st1, st2, year, month) # df 읽어오기\n",
    "        # 'time' 시각의 list 생성 (결측치도 삭제)\n",
    "        hangangdaero, hannamdaero = del_nan(make_si_list(df1, month, 10)[time], make_si_list(df2, month, 10)[time])\n",
    "        # 리스트에 평균 차이 저장\n",
    "        biyul_list.append(biyul_cal(hangangdaero, hannamdaero))\n",
    "    return biyul_list"
   ]
  },
  {
   "cell_type": "code",
   "execution_count": null,
   "metadata": {},
   "outputs": [],
   "source": [
    "plt.subplot(221)\n",
    "plt.figure(figsize=(6, 5))\n",
    "plt.plot(biyul_plot(st1,st2,year,6),'bs:')\n",
    "plt.plot([150 for _ in range(12)])\n",
    "\n",
    "plt.subplot(222)\n",
    "plt.figure(figsize=(6, 5))\n",
    "\n",
    "plt.plot(biyul_plot(st1,st2,year,12),'bs:')\n",
    "plt.plot([150 for _ in range(12)])\n",
    "\n",
    "plt.subplot(223)\n",
    "plt.figure(figsize=(6, 5))\n",
    "\n",
    "plt.plot(biyul_plot(st1,st2,year,18),'bs:')\n",
    "plt.plot([150 for _ in range(12)])\n",
    "\n",
    "plt.subplot(224)\n",
    "plt.figure(figsize=(6, 5))\n",
    "\n",
    "plt.plot(biyul_plot(st1,st2,year,24),'bs:')\n",
    "plt.plot([150 for _ in range(12)])\n",
    "\n",
    "\n",
    "plt.show()"
   ]
  },
  {
   "cell_type": "code",
   "execution_count": 72,
   "metadata": {},
   "outputs": [
    {
     "data": {
      "image/png": "[encoded data removed]",
      "text/plain": [
       "<Figure size 432x288 with 1 Axes>"
      ]
     },
     "metadata": {},
     "output_type": "display_data"
    }
   ],
   "source": [
    "plt.plot(biyul_list,'bs:')\n",
    "plt.plot([150 for _ in range(12)])\n",
    "plt.show()"
   ]
  },
  {
   "cell_type": "code",
   "execution_count": 65,
   "metadata": {},
   "outputs": [
    {
     "data": {
      "image/png": "[encoded data removed]",
      "text/plain": [
       "<Figure size 432x288 with 1 Axes>"
      ]
     },
     "metadata": {},
     "output_type": "display_data"
    }
   ],
   "source": [
    "plt.plot(biyul_list)\n",
    "plt.plot([150 for _ in range(12)])\n",
    "plt.show()"
   ]
  },
  {
   "cell_type": "code",
   "execution_count": null,
   "metadata": {},
   "outputs": [],
   "source": []
  }
 ],
 "metadata": {
  "kernelspec": {
   "display_name": "Python 3",
   "language": "python",
   "name": "python3"
  },
  "language_info": {
   "codemirror_mode": {
    "name": "ipython",
    "version": 3
   },
   "file_extension": ".py",
   "mimetype": "text/x-python",
   "name": "python",
   "nbconvert_exporter": "python",
   "pygments_lexer": "ipython3",
   "version": "3.7.3"
  }
 },
 "nbformat": 4,
 "nbformat_minor": 2
}
