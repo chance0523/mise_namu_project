{
 "cells": [
  {
   "cell_type": "code",
   "execution_count": 87,
   "metadata": {},
   "outputs": [],
   "source": [
    "import pandas as pd\n",
    "import matplotlib.pyplot as plt\n",
    "import matplotlib.font_manager as fm\n",
    "from matplotlib import rcParams\n",
    "import numpy as np\n",
    "import os"
   ]
  },
  {
   "cell_type": "code",
   "execution_count": 2,
   "metadata": {},
   "outputs": [],
   "source": [
    "plt.rc('font', family='Malgun Gothic')"
   ]
  },
  {
   "cell_type": "code",
   "execution_count": 99,
   "metadata": {},
   "outputs": [],
   "source": [
    "station_list=[]\n",
    "for i in os.listdir(\"./station_list\"):\n",
    "    station_list.append(i)"
   ]
  },
  {
   "cell_type": "code",
   "execution_count": 138,
   "metadata": {},
   "outputs": [
    {
     "data": {
      "text/plain": [
       "['Dobong_Sirubong',\n",
       " 'Dongdaemoon_Cheonhodaero',\n",
       " 'Dongdaemoon_Hongreungro',\n",
       " 'Dongjak_Dongjakdaero',\n",
       " 'Enpyeong_JinHeungro',\n",
       " 'Gangdong_Cheonhodaero',\n",
       " 'Gangdong_Gucheonmeonro',\n",
       " 'Gangnam_Dosandaero',\n",
       " 'Gangnam_Hakdongro',\n",
       " 'Gangseo_Gangseoro',\n",
       " 'Gangseo_Magokdong',\n",
       " 'Geumcheon_Doksandong',\n",
       " 'Geumcheon_Geumharo',\n",
       " 'Guro_Gamasanro',\n",
       " 'Gwanak_Sinrim',\n",
       " 'Gwangjin_Gwangnaruro',\n",
       " 'Jongno_Jongno',\n",
       " 'Jongro_Jonro35gagil',\n",
       " 'Jungnang_Yongmasanro',\n",
       " 'Jung_Cheonggaecheonro',\n",
       " 'Jung_Deoksugunggil',\n",
       " 'Mapo_Nogosandong',\n",
       " 'Mapo_Poeunro',\n",
       " 'Nowon_Hwarang',\n",
       " 'Nowon_Sangyero',\n",
       " 'Seocho_Gangnamdaero',\n",
       " 'Seocho_Sinbanporo',\n",
       " 'Seodaemoon_Segeomjeongro',\n",
       " 'Seongbuk_Donamdong',\n",
       " 'Seongbuk_Samyang',\n",
       " 'Seongbuk_Samyangro',\n",
       " 'Seongdong_Ddukseomro',\n",
       " 'Seongdong_Ganbyeonbukro',\n",
       " 'Songpagu_Baekjegobunro',\n",
       " 'Yangcheon_Chungang',\n",
       " 'Yeongdengpo_Dangsan',\n",
       " 'Yeongdeungpo_Yeongjungro',\n",
       " 'Yongsan_Hangandaero',\n",
       " 'Yongsan_Hannamdaero']"
      ]
     },
     "execution_count": 138,
     "metadata": {},
     "output_type": "execute_result"
    }
   ],
   "source": [
    "station_list"
   ]
  },
  {
   "cell_type": "code",
   "execution_count": 116,
   "metadata": {},
   "outputs": [],
   "source": [
    "del station_dict"
   ]
  },
  {
   "cell_type": "code",
   "execution_count": 117,
   "metadata": {},
   "outputs": [],
   "source": [
    "station_dict ={}"
   ]
  },
  {
   "cell_type": "code",
   "execution_count": 118,
   "metadata": {
    "collapsed": true
   },
   "outputs": [
    {
     "data": {
      "text/plain": [
       "{'Dobong_Sirubong': 'Dobong_Sirubong',\n",
       " 'Dongdaemoon_Cheonhodaero': 'Dongdaemoon_Cheonhodaero',\n",
       " 'Dongdaemoon_Hongreungro': 'Dongdaemoon_Hongreungro',\n",
       " 'Dongjak_Dongjakdaero': 'Dongjak_Dongjakdaero',\n",
       " 'Enpyeong_JinHeungro': 'Enpyeong_JinHeungro',\n",
       " 'Gangdong_Cheonhodaero': 'Gangdong_Cheonhodaero',\n",
       " 'Gangdong_Gucheonmeonro': 'Gangdong_Gucheonmeonro',\n",
       " 'Gangnam_Dosandaero': 'Gangnam_Dosandaero',\n",
       " 'Gangnam_Hakdongro': 'Gangnam_Hakdongro',\n",
       " 'Gangseo_Gangseoro': 'Gangseo_Gangseoro',\n",
       " 'Gangseo_Magokdong': 'Gangseo_Magokdong',\n",
       " 'Geumcheon_Doksandong': 'Geumcheon_Doksandong',\n",
       " 'Geumcheon_Geumharo': 'Geumcheon_Geumharo',\n",
       " 'Guro_Gamasanro': 'Guro_Gamasanro',\n",
       " 'Gwanak_Sinrim': 'Gwanak_Sinrim',\n",
       " 'Gwangjin_Gwangnaruro': 'Gwangjin_Gwangnaruro',\n",
       " 'Jongno_Jongno': 'Jongno_Jongno',\n",
       " 'Jongro_Jonro35gagil': 'Jongro_Jonro35gagil',\n",
       " 'Jungnang_Yongmasanro': 'Jungnang_Yongmasanro',\n",
       " 'Jung_Cheonggaecheonro': 'Jung_Cheonggaecheonro',\n",
       " 'Jung_Deoksugunggil': 'Jung_Deoksugunggil',\n",
       " 'Mapo_Nogosandong': 'Mapo_Nogosandong',\n",
       " 'Mapo_Poeunro': 'Mapo_Poeunro',\n",
       " 'Nowon_Hwarang': 'Nowon_Hwarang',\n",
       " 'Nowon_Sangyero': 'Nowon_Sangyero',\n",
       " 'Seocho_Gangnamdaero': 'Seocho_Gangnamdaero',\n",
       " 'Seocho_Sinbanporo': 'Seocho_Sinbanporo',\n",
       " 'Seodaemoon_Segeomjeongro': 'Seodaemoon_Segeomjeongro',\n",
       " 'Seongbuk_Donamdong': 'Seongbuk_Donamdong',\n",
       " 'Seongbuk_Samyang': 'Seongbuk_Samyang',\n",
       " 'Seongbuk_Samyangro': 'Seongbuk_Samyangro',\n",
       " 'Seongdong_Ddukseomro': 'Seongdong_Ddukseomro',\n",
       " 'Seongdong_Ganbyeonbukro': 'Seongdong_Ganbyeonbukro',\n",
       " 'Songpagu_Baekjegobunro': 'Songpagu_Baekjegobunro',\n",
       " 'Yangcheon_Chungang': 'Yangcheon_Chungang',\n",
       " 'Yeongdengpo_Dangsan': 'Yeongdengpo_Dangsan',\n",
       " 'Yeongdeungpo_Yeongjungro': 'Yeongdeungpo_Yeongjungro',\n",
       " 'Yongsan_Hangandaero': 'Yongsan_Hangandaero',\n",
       " 'Yongsan_Hannamdaero': 'Yongsan_Hannamdaero'}"
      ]
     },
     "execution_count": 118,
     "metadata": {},
     "output_type": "execute_result"
    }
   ],
   "source": [
    "for i in range(len(station_list)):\n",
    "    station_dict[f'{station_list[i]}'] = f'{station_list[i]}'\n",
    "station_dict"
   ]
  },
  {
   "cell_type": "code",
   "execution_count": 89,
   "metadata": {},
   "outputs": [],
   "source": [
    "def read_csv(station_name):\n",
    "    yearList = ['2016','2017','2018','2019','2020']\n",
    "    for year in yearList: \n",
    "        if year != '2020':\n",
    "            for month in range(1,13):\n",
    "                df1 = pd.read_csv(f'station_list/{station_name}/{year}/{station_name}_{year}_{month}.csv')\n",
    "        else:\n",
    "            df1 = pd.read_csv(f'station_list/{station_name}/{year}/{station_name}_2020_1.csv')"
   ]
  },
  {
   "cell_type": "code",
   "execution_count": 90,
   "metadata": {},
   "outputs": [],
   "source": [
    "def read_csv_only_one(station_name, year, month):\n",
    "    if year != '2020':\n",
    "        df1 = pd.read_csv(f'station_list/{station_name}/{year}/{station_name}_{year}_{month}.csv')\n",
    "    else:\n",
    "        df1 = pd.read_csv(f'station_list/{station_name}/{year}/{station_name}_2020_1.csv')\n",
    "    return df1"
   ]
  },
  {
   "cell_type": "code",
   "execution_count": null,
   "metadata": {},
   "outputs": [],
   "source": []
  },
  {
   "cell_type": "code",
   "execution_count": 91,
   "metadata": {},
   "outputs": [],
   "source": [
    "def make_time_ticks(df):\n",
    "    time = []\n",
    "    for i in df['time']:\n",
    "        time.append(i)\n",
    "    time_ticks = []\n",
    "    for i in range(len(time)):\n",
    "        if i%24 == 0:\n",
    "            time_ticks.append(i)\n",
    "    ticks_convert=[]\n",
    "    for i in range(len(time)):\n",
    "        ticks_convert.append(i+1)\n",
    "    return time_ticks, ticks_convert"
   ]
  },
  {
   "cell_type": "code",
   "execution_count": 92,
   "metadata": {},
   "outputs": [],
   "source": [
    "def make_pmList(df):\n",
    "    pm10=[]\n",
    "    pm2_5=[]\n",
    "    for i in df['pm10']:\n",
    "        pm10.append(i)\n",
    "    for i in df['pm2.5']:\n",
    "        pm2_5.append(i)\n",
    "    return pm10, pm2_5"
   ]
  },
  {
   "cell_type": "code",
   "execution_count": 93,
   "metadata": {},
   "outputs": [],
   "source": [
    "def show(time_ticks,ticks_convert):\n",
    "    plt.legend()\n",
    "    plt.xticks(time_ticks,ticks_convert)\n",
    "    plt.xlabel('일')\n",
    "    plt.ylabel('미세먼지 농도')\n",
    "    plt.show()"
   ]
  },
  {
   "cell_type": "code",
   "execution_count": 94,
   "metadata": {},
   "outputs": [],
   "source": [
    "def plot(pm):\n",
    "    x = [_ for _ in range(744)]\n",
    "    plt.plot(x, pm, label='pm')"
   ]
  },
  {
   "cell_type": "code",
   "execution_count": 127,
   "metadata": {},
   "outputs": [
    {
     "data": {
      "text/plain": [
       "'Dobong_Sirubong'"
      ]
     },
     "execution_count": 127,
     "metadata": {},
     "output_type": "execute_result"
    }
   ],
   "source": [
    "station_list[0]"
   ]
  },
  {
   "cell_type": "code",
   "execution_count": 128,
   "metadata": {},
   "outputs": [
    {
     "data": {
      "text/plain": [
       "'Dongdaemoon_Cheonhodaero'"
      ]
     },
     "execution_count": 128,
     "metadata": {},
     "output_type": "execute_result"
    }
   ],
   "source": [
    "station_list[1]"
   ]
  },
  {
   "cell_type": "code",
   "execution_count": 180,
   "metadata": {},
   "outputs": [],
   "source": [
    "df1 = read_csv_only_one('Gangnam_Hakdongro','2019','7')\n",
    "df2 = read_csv_only_one(f'{station_list[1]}','2019','5')"
   ]
  },
  {
   "cell_type": "code",
   "execution_count": 181,
   "metadata": {},
   "outputs": [
    {
     "name": "stdout",
     "output_type": "stream",
     "text": [
      "<class 'pandas.core.frame.DataFrame'>\n",
      "RangeIndex: 744 entries, 0 to 743\n",
      "Data columns (total 3 columns):\n",
      "time     744 non-null object\n",
      "pm10     730 non-null float64\n",
      "pm2.5    740 non-null float64\n",
      "dtypes: float64(2), object(1)\n",
      "memory usage: 17.5+ KB\n"
     ]
    }
   ],
   "source": [
    "df1\n",
    "df1.info()"
   ]
  },
  {
   "cell_type": "code",
   "execution_count": 182,
   "metadata": {},
   "outputs": [
    {
     "name": "stdout",
     "output_type": "stream",
     "text": [
      "<class 'pandas.core.frame.DataFrame'>\n",
      "RangeIndex: 744 entries, 0 to 743\n",
      "Data columns (total 3 columns):\n",
      "time     744 non-null object\n",
      "pm10     734 non-null float64\n",
      "pm2.5    735 non-null float64\n",
      "dtypes: float64(2), object(1)\n",
      "memory usage: 17.5+ KB\n"
     ]
    }
   ],
   "source": [
    "df2\n",
    "df2.info()"
   ]
  },
  {
   "cell_type": "code",
   "execution_count": 183,
   "metadata": {},
   "outputs": [],
   "source": [
    "time_ticks, ticks_convert = make_time_ticks(df1)"
   ]
  },
  {
   "cell_type": "code",
   "execution_count": 184,
   "metadata": {},
   "outputs": [],
   "source": [
    "DS_pm10, DS_pm2_5 = make_pmList(df1)\n",
    "DC_pm10, DC_pm2_5 = make_pmList(df2)"
   ]
  },
  {
   "cell_type": "code",
   "execution_count": 185,
   "metadata": {},
   "outputs": [
    {
     "data": {
      "image/png": "[encoded data removed]",
      "text/plain": [
       "<Figure size 864x360 with 1 Axes>"
      ]
     },
     "metadata": {
      "needs_background": "light"
     },
     "output_type": "display_data"
    }
   ],
   "source": [
    "plt.figure(figsize=(12, 5))\n",
    "\n",
    "plot(DS_pm2_5)\n",
    "# plot(DC_pm10)\n",
    "\n",
    "show(time_ticks, ticks_convert)"
   ]
  },
  {
   "cell_type": "code",
   "execution_count": null,
   "metadata": {},
   "outputs": [],
   "source": []
  },
  {
   "cell_type": "code",
   "execution_count": null,
   "metadata": {},
   "outputs": [],
   "source": []
  }
 ],
 "metadata": {
  "kernelspec": {
   "display_name": "Python 3",
   "language": "python",
   "name": "python3"
  },
  "language_info": {
   "codemirror_mode": {
    "name": "ipython",
    "version": 3
   },
   "file_extension": ".py",
   "mimetype": "text/x-python",
   "name": "python",
   "nbconvert_exporter": "python",
   "pygments_lexer": "ipython3",
   "version": "3.7.3"
  }
 },
 "nbformat": 4,
 "nbformat_minor": 2
}
